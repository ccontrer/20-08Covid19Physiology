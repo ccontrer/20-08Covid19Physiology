{
 "cells": [
  {
   "cell_type": "code",
   "execution_count": 16,
   "metadata": {},
   "outputs": [],
   "source": [
    "using Optim, LsqFit\n",
    "using Plots, StatsPlots, LaTeXStrings\n",
    "using DelimitedFiles\n",
    "using Statistics\n",
    "using Turing\n",
    "using DataFrames"
   ]
  },
  {
   "cell_type": "code",
   "execution_count": 17,
   "metadata": {},
   "outputs": [
    {
     "data": {
      "text/plain": [
       "Plots.PyPlotBackend()"
      ]
     },
     "execution_count": 17,
     "metadata": {},
     "output_type": "execute_result"
    }
   ],
   "source": [
    "pyplot(grid=:off)"
   ]
  },
  {
   "cell_type": "code",
   "execution_count": 18,
   "metadata": {},
   "outputs": [],
   "source": [
    "ENV[\"COLUMNS\"]=120\n",
    "figdir = \"figures/\";"
   ]
  },
  {
   "cell_type": "markdown",
   "metadata": {},
   "source": [
    "# Viral load data fitting\n",
    "\n",
    "Data for influenza from\n"
   ]
  },
  {
   "cell_type": "markdown",
   "metadata": {},
   "source": [
    "## Data set\n",
    "\n",
    "10 mice with 13 data points each"
   ]
  },
  {
   "cell_type": "code",
   "execution_count": 19,
   "metadata": {},
   "outputs": [
    {
     "data": {
      "text/html": [
       "<table class=\"data-frame\"><thead><tr><th></th><th>0.0</th><th>1.0</th><th>2.0</th><th>3.0</th><th>4.0</th><th>5.0</th><th>6.0</th><th>7.0</th><th>8.0</th><th>9.0</th><th>10.0</th><th>11.0</th><th>12.0</th></tr><tr><th></th><th>Float64</th><th>Float64</th><th>Float64</th><th>Float64</th><th>Float64</th><th>Float64</th><th>Float64</th><th>Float64</th><th>Float64</th><th>Float64</th><th>Float64</th><th>Float64</th><th>Float64</th></tr></thead><tbody><p>10 rows × 13 columns</p><tr><th>1</th><td>0.0</td><td>4.18551</td><td>5.67816</td><td>6.00515</td><td>5.9364</td><td>5.97712</td><td>5.44716</td><td>5.19848</td><td>4.00515</td><td>0.0</td><td>0.0</td><td>0.0</td><td>0.0</td></tr><tr><th>2</th><td>0.0</td><td>3.99136</td><td>5.47712</td><td>5.84488</td><td>5.82436</td><td>5.81012</td><td>5.0874</td><td>4.49136</td><td>0.0</td><td>0.0</td><td>0.0</td><td>0.0</td><td>0.0</td></tr><tr><th>3</th><td>0.0</td><td>3.49136</td><td>5.44716</td><td>5.81012</td><td>5.83815</td><td>5.78016</td><td>5.2954</td><td>5.01851</td><td>2.94716</td><td>0.0</td><td>0.0</td><td>0.0</td><td>0.0</td></tr><tr><th>4</th><td>0.0</td><td>3.29788</td><td>5.77233</td><td>6.24612</td><td>5.49136</td><td>5.9624</td><td>5.14412</td><td>5.51851</td><td>3.23882</td><td>0.0</td><td>0.0</td><td>0.0</td><td>0.0</td></tr><tr><th>5</th><td>0.0</td><td>4.75515</td><td>5.9624</td><td>6.44716</td><td>5.78016</td><td>5.83244</td><td>5.99136</td><td>4.96982</td><td>0.0</td><td>0.0</td><td>0.0</td><td>0.0</td><td>0.0</td></tr><tr><th>6</th><td>0.0</td><td>4.30151</td><td>5.49136</td><td>6.86448</td><td>5.70812</td><td>5.80282</td><td>4.9624</td><td>4.47712</td><td>0.0</td><td>0.0</td><td>0.0</td><td>0.0</td><td>0.0</td></tr><tr><th>7</th><td>0.0</td><td>3.49136</td><td>5.7954</td><td>5.74951</td><td>6.03148</td><td>5.82436</td><td>5.2954</td><td>5.17215</td><td>3.26036</td><td>0.0</td><td>0.0</td><td>0.0</td><td>0.0</td></tr><tr><th>8</th><td>0.0</td><td>4.00515</td><td>6.03148</td><td>5.83815</td><td>6.26036</td><td>6.1294</td><td>5.18551</td><td>4.83815</td><td>0.0</td><td>0.0</td><td>0.0</td><td>0.0</td><td>0.0</td></tr><tr><th>9</th><td>0.0</td><td>3.49136</td><td>6.18551</td><td>5.78784</td><td>5.59921</td><td>5.97712</td><td>5.34488</td><td>5.47712</td><td>0.0</td><td>0.0</td><td>0.0</td><td>0.0</td><td>0.0</td></tr><tr><th>10</th><td>0.0</td><td>4.50515</td><td>6.17215</td><td>6.03148</td><td>5.49136</td><td>5.34242</td><td>5.81012</td><td>5.01188</td><td>0.0</td><td>0.0</td><td>0.0</td><td>0.0</td><td>0.0</td></tr></tbody></table>"
      ],
      "text/latex": [
       "\\begin{tabular}{r|ccccccccccccc}\n",
       "\t& 0.0 & 1.0 & 2.0 & 3.0 & 4.0 & 5.0 & 6.0 & 7.0 & 8.0 & 9.0 & 10.0 & 11.0 & 12.0\\\\\n",
       "\t\\hline\n",
       "\t& Float64 & Float64 & Float64 & Float64 & Float64 & Float64 & Float64 & Float64 & Float64 & Float64 & Float64 & Float64 & Float64\\\\\n",
       "\t\\hline\n",
       "\t1 & 0.0 & 4.18551 & 5.67816 & 6.00515 & 5.9364 & 5.97712 & 5.44716 & 5.19848 & 4.00515 & 0.0 & 0.0 & 0.0 & 0.0 \\\\\n",
       "\t2 & 0.0 & 3.99136 & 5.47712 & 5.84488 & 5.82436 & 5.81012 & 5.0874 & 4.49136 & 0.0 & 0.0 & 0.0 & 0.0 & 0.0 \\\\\n",
       "\t3 & 0.0 & 3.49136 & 5.44716 & 5.81012 & 5.83815 & 5.78016 & 5.2954 & 5.01851 & 2.94716 & 0.0 & 0.0 & 0.0 & 0.0 \\\\\n",
       "\t4 & 0.0 & 3.29788 & 5.77233 & 6.24612 & 5.49136 & 5.9624 & 5.14412 & 5.51851 & 3.23882 & 0.0 & 0.0 & 0.0 & 0.0 \\\\\n",
       "\t5 & 0.0 & 4.75515 & 5.9624 & 6.44716 & 5.78016 & 5.83244 & 5.99136 & 4.96982 & 0.0 & 0.0 & 0.0 & 0.0 & 0.0 \\\\\n",
       "\t6 & 0.0 & 4.30151 & 5.49136 & 6.86448 & 5.70812 & 5.80282 & 4.9624 & 4.47712 & 0.0 & 0.0 & 0.0 & 0.0 & 0.0 \\\\\n",
       "\t7 & 0.0 & 3.49136 & 5.7954 & 5.74951 & 6.03148 & 5.82436 & 5.2954 & 5.17215 & 3.26036 & 0.0 & 0.0 & 0.0 & 0.0 \\\\\n",
       "\t8 & 0.0 & 4.00515 & 6.03148 & 5.83815 & 6.26036 & 6.1294 & 5.18551 & 4.83815 & 0.0 & 0.0 & 0.0 & 0.0 & 0.0 \\\\\n",
       "\t9 & 0.0 & 3.49136 & 6.18551 & 5.78784 & 5.59921 & 5.97712 & 5.34488 & 5.47712 & 0.0 & 0.0 & 0.0 & 0.0 & 0.0 \\\\\n",
       "\t10 & 0.0 & 4.50515 & 6.17215 & 6.03148 & 5.49136 & 5.34242 & 5.81012 & 5.01188 & 0.0 & 0.0 & 0.0 & 0.0 & 0.0 \\\\\n",
       "\\end{tabular}\n"
      ],
      "text/plain": [
       "\u001b[1m10×13 DataFrame\u001b[0m\n",
       "\u001b[1m Row \u001b[0m│\u001b[1m 0.0     \u001b[0m\u001b[1m 1.0     \u001b[0m\u001b[1m 2.0     \u001b[0m\u001b[1m 3.0     \u001b[0m\u001b[1m 4.0     \u001b[0m\u001b[1m 5.0     \u001b[0m\u001b[1m 6.0     \u001b[0m\u001b[1m 7.0     \u001b[0m\u001b[1m 8.0     \u001b[0m\u001b[1m 9.0     \u001b[0m\u001b[1m 10.0    \u001b[0m\u001b[1m 11.0    \u001b[0m\u001b[1m 12.\u001b[0m ⋯\n",
       "\u001b[1m     \u001b[0m│\u001b[90m Float64 \u001b[0m\u001b[90m Float64 \u001b[0m\u001b[90m Float64 \u001b[0m\u001b[90m Float64 \u001b[0m\u001b[90m Float64 \u001b[0m\u001b[90m Float64 \u001b[0m\u001b[90m Float64 \u001b[0m\u001b[90m Float64 \u001b[0m\u001b[90m Float64 \u001b[0m\u001b[90m Float64 \u001b[0m\u001b[90m Float64 \u001b[0m\u001b[90m Float64 \u001b[0m\u001b[90m Flo\u001b[0m ⋯\n",
       "─────┼──────────────────────────────────────────────────────────────────────────────────────────────────────────────────\n",
       "   1 │     0.0  4.18551  5.67816  6.00515  5.9364   5.97712  5.44716  5.19848  4.00515      0.0      0.0      0.0      ⋯\n",
       "   2 │     0.0  3.99136  5.47712  5.84488  5.82436  5.81012  5.0874   4.49136  0.0          0.0      0.0      0.0\n",
       "   3 │     0.0  3.49136  5.44716  5.81012  5.83815  5.78016  5.2954   5.01851  2.94716      0.0      0.0      0.0\n",
       "   4 │     0.0  3.29788  5.77233  6.24612  5.49136  5.9624   5.14412  5.51851  3.23882      0.0      0.0      0.0\n",
       "   5 │     0.0  4.75515  5.9624   6.44716  5.78016  5.83244  5.99136  4.96982  0.0          0.0      0.0      0.0      ⋯\n",
       "   6 │     0.0  4.30151  5.49136  6.86448  5.70812  5.80282  4.9624   4.47712  0.0          0.0      0.0      0.0\n",
       "   7 │     0.0  3.49136  5.7954   5.74951  6.03148  5.82436  5.2954   5.17215  3.26036      0.0      0.0      0.0\n",
       "   8 │     0.0  4.00515  6.03148  5.83815  6.26036  6.1294   5.18551  4.83815  0.0          0.0      0.0      0.0\n",
       "   9 │     0.0  3.49136  6.18551  5.78784  5.59921  5.97712  5.34488  5.47712  0.0          0.0      0.0      0.0      ⋯\n",
       "  10 │     0.0  4.50515  6.17215  6.03148  5.49136  5.34242  5.81012  5.01188  0.0          0.0      0.0      0.0\n",
       "\u001b[36m                                                                                                        1 column omitted\u001b[0m"
      ]
     },
     "execution_count": 19,
     "metadata": {},
     "output_type": "execute_result"
    }
   ],
   "source": [
    "tdata = Array(range(0., 12. , step=1.0))\n",
    "data = readdlm(\"../../data/Smith2018/Virus_Best10.txt\", ' ', Float64, '\\n')\n",
    "DataFrame(data, Symbol.(0.:12.))"
   ]
  },
  {
   "cell_type": "code",
   "execution_count": 20,
   "metadata": {},
   "outputs": [
    {
     "data": {
      "image/png": "[encoded data removed]"
     },
     "execution_count": 20,
     "metadata": {},
     "output_type": "execute_result"
    }
   ],
   "source": [
    "plt = plot(legend=:none, grid=:none, xlabel=\"Time (days)\", ylabel=L\"\\log\\,V(t)\")\n",
    "[plot!(tdata, data[i, :], seriestype=:scatter) for i in 1:size(data, 1)]\n",
    "plt"
   ]
  },
  {
   "cell_type": "markdown",
   "metadata": {},
   "source": [
    "## Standard virus load function\n",
    "\n",
    "Consider a virus load function with three main phases given by\n",
    "\n",
    "$$V(t)=v_1(t)v_2(t)v_3(t),$$\n",
    "\n",
    "where $v _1$ describes the initial growth phase between $a _1$ and $a _2$ , $v _2$ the intermediate slow decay\n",
    "phase between $a _2$ and $b _1$, and $v _3$ the final decay phase between $b _1$ and $b _2$. These functions are given as sigmoid and exponential functions, respectively\n",
    "\n",
    "$$\n",
    "\\begin{aligned}\n",
    "v_1(t) & = 1 + \\frac{V_{\\max} - 1}{2} \\left[ \\tanh \\left( \\frac{6}{a_2 - a_1} \\left( t - \\frac{a_1 + a_2}{2} \\right) \\right) - \\tanh  \\left( -3\\frac{a_2 + a_1}{a_2 - a_1} \\right) \\right] \\\\\n",
    "v_2(t) & = (1 - H(t - a_2)) + H(t - a_2)e^{-\\alpha(t - a_2)} \\\\\n",
    "v_3(t) & = 1 - \\frac{1 - V_{\\min}}{2} \\left[ \\tanh \\left( \\frac{6}{b_2 - b_1} \\left( t - \\frac{b_1 + b_2}{2} \\right) \\right) - \\tanh  \\left( -3\\frac{b_2 + b_1}{b_2 - b_1} \\right) \\right],\n",
    "\\end{aligned}\n",
    "$$\n",
    "\n",
    "where $H(t)$ denotes the Heaviside function."
   ]
  },
  {
   "cell_type": "code",
   "execution_count": 21,
   "metadata": {},
   "outputs": [
    {
     "data": {
      "text/plain": [
       "cost (generic function with 1 method)"
      ]
     },
     "execution_count": 21,
     "metadata": {},
     "output_type": "execute_result"
    }
   ],
   "source": [
    "H(x::AbstractFloat) = ifelse(x < 0, zero(x), ifelse(x > 0, one(x), oftype(x,0.5)))\n",
    "function v₁(t, a₁, a₂, logVmax)\n",
    "    1. + (10^logVmax - 1.0)*(tanh(6.0*(t - (a₁ + a₂)/2)/abs(a₂ - a₁)) - tanh(-3.0*(a₂ + a₁)/abs(a₂ - a₁)))/2\n",
    "end\n",
    "function v₂(t, a₂, α) \n",
    "    1. - H(t - a₂) + H(t - a₂)*exp(-α*(t - a₂))\n",
    "end\n",
    "function v₃(t, b₁, b₂, logVmin)\n",
    "    1. - (1.0 - 10^logVmin)*(tanh(6.0*(t - (b₁ + b₂)/2)/abs(b₂ - b₁)) - tanh(-3.0*(b₂ + b₁)/abs(b₂ - b₁)))/2\n",
    "end\n",
    "function LogVirusLoad(t, a₁, a₂, b₁, b₂, α, logVmax)\n",
    "    θ = minimum(vvdata)\n",
    "    logVmin = -6.0\n",
    "    logV = log10(v₁(t, a₁, a₂, logVmax)*v₂(t, a₂, α)*v₃(t, b₁, b₂, logVmin))\n",
    "    max(logV, θ)\n",
    "end\n",
    "par_names = [\"a₁\", \"a₂\", \"b₁\", \"b₂\", \"α\", \"logVmax\"];"
   ]
  },
  {
   "cell_type": "markdown",
   "metadata": {},
   "source": [
    "## Data fitting"
   ]
  },
  {
   "cell_type": "code",
   "execution_count": 22,
   "metadata": {},
   "outputs": [
    {
     "data": {
      "text/plain": [
       "cost (generic function with 1 method)"
      ]
     },
     "execution_count": 22,
     "metadata": {},
     "output_type": "execute_result"
    }
   ],
   "source": [
    "ttdata = repeat(tdata, inner=10)\n",
    "tend = ttdata[end]\n",
    "vvdata = reshape(data, 1, :)[:];\n",
    "cost(p) = sum(abs2, LogVirusLoad.(ttdata, p...) - vvdata)"
   ]
  },
  {
   "cell_type": "markdown",
   "metadata": {},
   "source": [
    "Get a first estimate using optimization for the prior distributions"
   ]
  },
  {
   "cell_type": "code",
   "execution_count": 23,
   "metadata": {},
   "outputs": [
    {
     "name": "stdout",
     "output_type": "stream",
     "text": [
      "================================================================================\n",
      "SAMIN results\n",
      "==> Normal convergence <==\n",
      "total number of objective function evaluations: 52351\n",
      "\n",
      "     Obj. value:     35.2616862604\n",
      "\n",
      "       parameter      search width\n",
      "         0.77223           0.00000 \n",
      "         3.16121           0.00000 \n",
      "         6.37968           0.00000 \n",
      "         7.72606           0.00000 \n",
      "         0.50320           0.00000 \n",
      "         6.06687           0.00000 \n",
      "================================================================================\n",
      "\n"
     ]
    },
    {
     "data": {
      "text/plain": [
       " * Status: failure\n",
       "\n",
       " * Candidate solution\n",
       "    Final objective value:     3.526169e+01\n",
       "\n",
       " * Found with\n",
       "    Algorithm:     SAMIN\n",
       "\n",
       " * Convergence measures\n",
       "    |x - x'|               = NaN ≰ 0.0e+00\n",
       "    |x - x'|/|x'|          = NaN ≰ 0.0e+00\n",
       "    |f(x) - f(x')|         = NaN ≰ 0.0e+00\n",
       "    |f(x) - f(x')|/|f(x')| = NaN ≰ 0.0e+00\n",
       "    |g(x)|                 = NaN ≰ 0.0e+00\n",
       "\n",
       " * Work counters\n",
       "    Seconds run:   4  (vs limit Inf)\n",
       "    Iterations:    52351\n",
       "    f(x) calls:    52351\n",
       "    ∇f(x) calls:   0\n"
      ]
     },
     "execution_count": 23,
     "metadata": {},
     "output_type": "execute_result"
    }
   ],
   "source": [
    "par0 = [0.10, 2.88, 6.00, 7.60, 0.20, 5.0]\n",
    "lb   = [0.00, 1.00, 5.00, 7.00, 1e-8, 4.0]\n",
    "ub   = [1.00, 5.00, 7.00, 9.00, 10.0, 7.0]\n",
    "fit = optimize(cost, lb, ub, par0, SAMIN(), Optim.Options(iterations=10^5))"
   ]
  },
  {
   "cell_type": "markdown",
   "metadata": {},
   "source": [
    "## Mixed-effects model"
   ]
  },
  {
   "cell_type": "code",
   "execution_count": 50,
   "metadata": {},
   "outputs": [
    {
     "data": {
      "text/plain": [
       "(10, 13)"
      ]
     },
     "execution_count": 50,
     "metadata": {},
     "output_type": "execute_result"
    }
   ],
   "source": [
    "M, n = size(data)"
   ]
  },
  {
   "cell_type": "code",
   "execution_count": 29,
   "metadata": {},
   "outputs": [],
   "source": [
    "sampler = PG(10); nsamples = 1000; nchains = 4;"
   ]
  },
  {
   "cell_type": "code",
   "execution_count": 71,
   "metadata": {},
   "outputs": [
    {
     "data": {
      "text/plain": [
       "4.902010911820291"
      ]
     },
     "execution_count": 71,
     "metadata": {},
     "output_type": "execute_result"
    }
   ],
   "source": [
    "LogVirusLoad(tdata[5], par0...)"
   ]
  },
  {
   "cell_type": "code",
   "execution_count": 74,
   "metadata": {},
   "outputs": [
    {
     "data": {
      "text/plain": [
       "VLFmixedeffects (generic function with 1 method)"
      ]
     },
     "execution_count": 74,
     "metadata": {},
     "output_type": "execute_result"
    }
   ],
   "source": [
    "@model function VLFmixedeffects(t, data, p₀)\n",
    "    # For each individual i, v[i, j] is the observation at time t[j]\n",
    "    tmax = maximum(t)\n",
    "    M, n = size(data)\n",
    "    # Prior distributions\n",
    "    s = 0.1 # ~ Exponential(1.0)\n",
    "    a₁ ~ truncated(Normal(p₀[1], s), 0, p₀[3])\n",
    "    a₂ ~ truncated(Normal(p₀[2], s), a₁, p₀[4])\n",
    "    b₁ ~ truncated(Normal(p₀[3], s), a₂, tmax)\n",
    "    b₂ ~ truncated(Normal(p₀[4], s), b₁, tmax)\n",
    "    α ~ truncated(Normal(p₀[5], s), 0, Inf)\n",
    "    logVmax ~ truncated(Normal(p₀[6], s), 0, Inf)\n",
    "    # Fixed and random effects\n",
    "    β = [a₁, a₂, b₁, b₂, α, logVmax]\n",
    "    σ_β = 0.1 # ~ Exponential(0.1)\n",
    "    b = MvNormal(6, σ_β)\n",
    "    ϕ = β + b\n",
    "    print(ϕ)\n",
    "    σ_ϵ = 1.0 # ~ Exponential(1.0)\n",
    "    ϵ = Normal(0, σ_ϵ)\n",
    "    # Model\n",
    "    threshold = 0\n",
    "#     for i ∈ eachrow(data)\n",
    "#         for j ∈ eachcol(data)\n",
    "#             println(LogVirusLoad(t[j], ϕ...))\n",
    "#             data[i, j] = LogVirusLoad(t[j], ϕ...) + ϵ\n",
    "#         end\n",
    "#     end\n",
    "    v = data[1, :]\n",
    "    v = LogVirusLoad.(t, ϕ...) + ϵ\n",
    "end"
   ]
  },
  {
   "cell_type": "code",
   "execution_count": 75,
   "metadata": {
    "scrolled": true
   },
   "outputs": [
    {
     "name": "stdout",
     "output_type": "stream",
     "text": [
      "IsoNormal(\n",
      "dim: 6\n",
      "μ: [0.972781793108023, 3.0724582701786383, 6.4181324691783805, 7.674881215680724, 0.4832037396927934, 6.0432838112733425]\n",
      "Σ: [0.010000000000000002 0.0 0.0 0.0 0.0 0.0; 0.0 0.010000000000000002 0.0 0.0 0.0 0.0; 0.0 0.0 0.010000000000000002 0.0 0.0 0.0; 0.0 0.0 0.0 0.010000000000000002 0.0 0.0; 0.0 0.0 0.0 0.0 0.010000000000000002 0.0; 0.0 0.0 0.0 0.0 0.0 0.010000000000000002]\n",
      ")\n"
     ]
    },
    {
     "ename": "LoadError",
     "evalue": "MethodError: no method matching iterate(::IsoNormal)\n\u001b[0mClosest candidates are:\n\u001b[0m  iterate(\u001b[91m::Union{LinRange, StepRangeLen}\u001b[39m) at range.jl:664\n\u001b[0m  iterate(\u001b[91m::Union{LinRange, StepRangeLen}\u001b[39m, \u001b[91m::Int64\u001b[39m) at range.jl:664\n\u001b[0m  iterate(\u001b[91m::T\u001b[39m) where T<:Union{Base.KeySet{var\"#s79\", var\"#s78\"} where {var\"#s79\", var\"#s78\"<:Dict}, Base.ValueIterator{var\"#s77\"} where var\"#s77\"<:Dict} at dict.jl:693\n\u001b[0m  ...",
     "output_type": "error",
     "traceback": [
      "MethodError: no method matching iterate(::IsoNormal)\n\u001b[0mClosest candidates are:\n\u001b[0m  iterate(\u001b[91m::Union{LinRange, StepRangeLen}\u001b[39m) at range.jl:664\n\u001b[0m  iterate(\u001b[91m::Union{LinRange, StepRangeLen}\u001b[39m, \u001b[91m::Int64\u001b[39m) at range.jl:664\n\u001b[0m  iterate(\u001b[91m::T\u001b[39m) where T<:Union{Base.KeySet{var\"#s79\", var\"#s78\"} where {var\"#s79\", var\"#s78\"<:Dict}, Base.ValueIterator{var\"#s77\"} where var\"#s77\"<:Dict} at dict.jl:693\n\u001b[0m  ...",
      "",
      "Stacktrace:",
      "  [1] #75",
      "    @ ./In[74]:30 [inlined]",
      "  [2] (::var\"#75#76\")(__rng__::Random._GLOBAL_RNG, __model__::DynamicPPL.Model{var\"#75#76\", (:t, :data, :p₀), (), (), Tuple{Vector{Float64}, Matrix{Float64}, Vector{Float64}}, Tuple{}}, __varinfo__::DynamicPPL.UntypedVarInfo{DynamicPPL.Metadata{Dict{AbstractPPL.VarName, Int64}, Vector{Distribution}, Vector{AbstractPPL.VarName}, Vector{Real}, Vector{Set{DynamicPPL.Selector}}}, Float64}, __sampler__::DynamicPPL.SampleFromPrior, __context__::DynamicPPL.DefaultContext, t::Vector{Float64}, data::Matrix{Float64}, p₀::Vector{Float64})",
      "    @ Main ./none:0",
      "  [3] macro expansion",
      "    @ ~/.julia/packages/DynamicPPL/8Oe1A/src/model.jl:0 [inlined]",
      "  [4] _evaluate",
      "    @ ~/.julia/packages/DynamicPPL/8Oe1A/src/model.jl:154 [inlined]",
      "  [5] evaluate_threadunsafe",
      "    @ ~/.julia/packages/DynamicPPL/8Oe1A/src/model.jl:127 [inlined]",
      "  [6] Model",
      "    @ ~/.julia/packages/DynamicPPL/8Oe1A/src/model.jl:92 [inlined]",
      "  [7] VarInfo",
      "    @ ~/.julia/packages/DynamicPPL/8Oe1A/src/varinfo.jl:126 [inlined]",
      "  [8] VarInfo",
      "    @ ~/.julia/packages/DynamicPPL/8Oe1A/src/varinfo.jl:125 [inlined]",
      "  [9] step(rng::Random._GLOBAL_RNG, model::DynamicPPL.Model{var\"#75#76\", (:t, :data, :p₀), (), (), Tuple{Vector{Float64}, Matrix{Float64}, Vector{Float64}}, Tuple{}}, spl::DynamicPPL.Sampler{PG{(), AdvancedPS.ResampleWithESSThreshold{typeof(AdvancedPS.resample_systematic), Float64}}}; resume_from::Nothing, kwargs::Base.Iterators.Pairs{Union{}, Union{}, Tuple{}, NamedTuple{(), Tuple{}}})",
      "    @ DynamicPPL ~/.julia/packages/DynamicPPL/8Oe1A/src/sampler.jl:73",
      " [10] step",
      "    @ ~/.julia/packages/DynamicPPL/8Oe1A/src/sampler.jl:66 [inlined]",
      " [11] macro expansion",
      "    @ ~/.julia/packages/AbstractMCMC/pHtnn/src/sample.jl:101 [inlined]",
      " [12] macro expansion",
      "    @ ~/.julia/packages/ProgressLogging/6KXlp/src/ProgressLogging.jl:328 [inlined]",
      " [13] (::AbstractMCMC.var\"#20#21\"{Bool, String, Nothing, Int64, Int64, Base.Iterators.Pairs{Union{}, Union{}, Tuple{}, NamedTuple{(), Tuple{}}}, Random._GLOBAL_RNG, DynamicPPL.Model{var\"#75#76\", (:t, :data, :p₀), (), (), Tuple{Vector{Float64}, Matrix{Float64}, Vector{Float64}}, Tuple{}}, DynamicPPL.Sampler{PG{(), AdvancedPS.ResampleWithESSThreshold{typeof(AdvancedPS.resample_systematic), Float64}}}, Int64, Int64})()",
      "    @ AbstractMCMC ~/.julia/packages/AbstractMCMC/pHtnn/src/logging.jl:11",
      " [14] with_logstate(f::Function, logstate::Any)",
      "    @ Base.CoreLogging ./logging.jl:491",
      " [15] with_logger(f::Function, logger::LoggingExtras.TeeLogger{Tuple{LoggingExtras.EarlyFilteredLogger{ConsoleProgressMonitor.ProgressLogger, AbstractMCMC.var\"#1#3\"{Module}}, LoggingExtras.EarlyFilteredLogger{Base.CoreLogging.SimpleLogger, AbstractMCMC.var\"#2#4\"{Module}}}})",
      "    @ Base.CoreLogging ./logging.jl:603",
      " [16] with_progresslogger(f::Function, _module::Module, logger::Base.CoreLogging.SimpleLogger)",
      "    @ AbstractMCMC ~/.julia/packages/AbstractMCMC/pHtnn/src/logging.jl:34",
      " [17] macro expansion",
      "    @ ~/.julia/packages/AbstractMCMC/pHtnn/src/logging.jl:10 [inlined]",
      " [18] mcmcsample(rng::Random._GLOBAL_RNG, model::DynamicPPL.Model{var\"#75#76\", (:t, :data, :p₀), (), (), Tuple{Vector{Float64}, Matrix{Float64}, Vector{Float64}}, Tuple{}}, sampler::DynamicPPL.Sampler{PG{(), AdvancedPS.ResampleWithESSThreshold{typeof(AdvancedPS.resample_systematic), Float64}}}, N::Int64; progress::Bool, progressname::String, callback::Nothing, discard_initial::Int64, thinning::Int64, chain_type::Type, kwargs::Base.Iterators.Pairs{Union{}, Union{}, Tuple{}, NamedTuple{(), Tuple{}}})",
      "    @ AbstractMCMC ~/.julia/packages/AbstractMCMC/pHtnn/src/sample.jl:92",
      " [19] sample(rng::Random._GLOBAL_RNG, model::DynamicPPL.Model{var\"#75#76\", (:t, :data, :p₀), (), (), Tuple{Vector{Float64}, Matrix{Float64}, Vector{Float64}}, Tuple{}}, sampler::DynamicPPL.Sampler{PG{(), AdvancedPS.ResampleWithESSThreshold{typeof(AdvancedPS.resample_systematic), Float64}}}, N::Int64; chain_type::Type, resume_from::Nothing, progress::Bool, kwargs::Base.Iterators.Pairs{Union{}, Union{}, Tuple{}, NamedTuple{(), Tuple{}}})",
      "    @ Turing.Inference ~/.julia/packages/Turing/QYtu8/src/inference/Inference.jl:156",
      " [20] sample",
      "    @ ~/.julia/packages/Turing/QYtu8/src/inference/Inference.jl:155 [inlined]",
      " [21] #sample#2",
      "    @ ~/.julia/packages/Turing/QYtu8/src/inference/Inference.jl:142 [inlined]",
      " [22] sample",
      "    @ ~/.julia/packages/Turing/QYtu8/src/inference/Inference.jl:142 [inlined]",
      " [23] #sample#1",
      "    @ ~/.julia/packages/Turing/QYtu8/src/inference/Inference.jl:132 [inlined]",
      " [24] sample(model::DynamicPPL.Model{var\"#75#76\", (:t, :data, :p₀), (), (), Tuple{Vector{Float64}, Matrix{Float64}, Vector{Float64}}, Tuple{}}, alg::PG{(), AdvancedPS.ResampleWithESSThreshold{typeof(AdvancedPS.resample_systematic), Float64}}, N::Int64)",
      "    @ Turing.Inference ~/.julia/packages/Turing/QYtu8/src/inference/Inference.jl:132",
      " [25] (::var\"#77#78\")(c::Int64)",
      "    @ Main ./In[75]:1",
      " [26] _mapreduce(f::var\"#77#78\", op::typeof(chainscat), #unused#::IndexLinear, A::UnitRange{Int64})",
      "    @ Base ./reduce.jl:408",
      " [27] _mapreduce_dim(f::Function, op::Function, #unused#::Base._InitialValue, A::UnitRange{Int64}, #unused#::Colon)",
      "    @ Base ./reducedim.jl:318",
      " [28] #mapreduce#672",
      "    @ ./reducedim.jl:310 [inlined]",
      " [29] mapreduce(f::Function, op::Function, A::UnitRange{Int64})",
      "    @ Base ./reducedim.jl:310",
      " [30] top-level scope",
      "    @ In[75]:1",
      " [31] eval",
      "    @ ./boot.jl:360 [inlined]",
      " [32] include_string(mapexpr::typeof(REPL.softscope), mod::Module, code::String, filename::String)",
      "    @ Base ./loading.jl:1094"
     ]
    }
   ],
   "source": [
    "chains = mapreduce(c -> sample(VLFmixedeffects(tdata, data, fit.minimizer), \n",
    "                   sampler, nsamples), chainscat, 1:nchains)"
   ]
  },
  {
   "cell_type": "code",
   "execution_count": 46,
   "metadata": {},
   "outputs": [
    {
     "data": {
      "text/plain": [
       "55"
      ]
     },
     "execution_count": 46,
     "metadata": {},
     "output_type": "execute_result"
    }
   ],
   "source": [
    "s = 0\n",
    "for i in 1:10\n",
    "    s = s + i\n",
    "end\n",
    "s"
   ]
  },
  {
   "cell_type": "code",
   "execution_count": null,
   "metadata": {},
   "outputs": [],
   "source": []
  },
  {
   "cell_type": "code",
   "execution_count": null,
   "metadata": {},
   "outputs": [],
   "source": []
  },
  {
   "cell_type": "markdown",
   "metadata": {},
   "source": [
    "Plot error bars using 95% confidence interval"
   ]
  },
  {
   "cell_type": "markdown",
   "metadata": {},
   "source": [
    "Sample for the posterior and predict, however, this does not include uncertainty from the data."
   ]
  },
  {
   "cell_type": "code",
   "execution_count": null,
   "metadata": {},
   "outputs": [],
   "source": []
  },
  {
   "cell_type": "code",
   "execution_count": null,
   "metadata": {},
   "outputs": [],
   "source": []
  },
  {
   "cell_type": "code",
   "execution_count": null,
   "metadata": {},
   "outputs": [],
   "source": []
  },
  {
   "cell_type": "code",
   "execution_count": null,
   "metadata": {},
   "outputs": [],
   "source": []
  },
  {
   "cell_type": "code",
   "execution_count": null,
   "metadata": {},
   "outputs": [],
   "source": []
  }
 ],
 "metadata": {
  "kernelspec": {
   "display_name": "Julia 1.4.1",
   "language": "julia",
   "name": "julia-1.4"
  },
  "language_info": {
   "file_extension": ".jl",
   "mimetype": "application/julia",
   "name": "julia",
   "version": "1.6.0"
  }
 },
 "nbformat": 4,
 "nbformat_minor": 4
}
