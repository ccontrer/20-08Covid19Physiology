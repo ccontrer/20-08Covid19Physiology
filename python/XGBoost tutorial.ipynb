{
 "cells": [
  {
   "cell_type": "markdown",
   "metadata": {},
   "source": [
    "# Gradient boosting using XGBoost library\n",
    "\n",
    "This tutorial contains:\n",
    "\n",
    "- Learning a classification tree using gradient boosting\n",
    "- Cross validation to tune learning parameter "
   ]
  },
  {
   "cell_type": "markdown",
   "metadata": {},
   "source": [
    "## Example data set\n",
    "\n",
    "Let's use diabetes from Skilearn: breast cancer diagnosis based on tumor properties from images."
   ]
  },
  {
   "cell_type": "code",
   "execution_count": 1,
   "metadata": {},
   "outputs": [],
   "source": [
    "# data set\n",
    "from sklearn import datasets\n",
    "# numpy\n",
    "import numpy as np\n",
    "# data frames\n",
    "import pandas as pd"
   ]
  },
  {
   "cell_type": "code",
   "execution_count": 2,
   "metadata": {},
   "outputs": [],
   "source": [
    "ds = datasets.load_breast_cancer(as_frame=True)"
   ]
  },
  {
   "cell_type": "code",
   "execution_count": 3,
   "metadata": {},
   "outputs": [
    {
     "name": "stdout",
     "output_type": "stream",
     "text": [
      ".. _breast_cancer_dataset:\n",
      "\n",
      "Breast cancer wisconsin (diagnostic) dataset\n",
      "--------------------------------------------\n",
      "\n",
      "**Data Set Characteristics:**\n",
      "\n",
      "    :Number of Instances: 569\n",
      "\n",
      "    :Number of Attributes: 30 numeric, predictive attributes and the class\n",
      "\n",
      "    :Attribute Information:\n",
      "        - radius (mean of distances from center to points on the perimeter)\n",
      "        - texture (standard deviation of gray-scale values)\n",
      "        - perimeter\n",
      "        - area\n",
      "        - smoothness (local variation in radius lengths)\n",
      "        - compactness (perimeter^2 / area - 1.0)\n",
      "        - concavity (severity of concave portions of the contour)\n",
      "        - concave points (number of concave portions of the contour)\n",
      "        - symmetry\n",
      "        - fractal dimension (\"coastline approximation\" - 1)\n",
      "\n",
      "        The mean, standard error, and \"worst\" or largest (mean of the three\n",
      "        worst/largest values) of these features were computed for each image,\n",
      "        resulting in 30 features.  For instance, field 0 is Mean Radius, field\n",
      "        10 is Radius SE, field 20 is Worst Radius.\n",
      "\n",
      "        - class:\n",
      "                - WDBC-Malignant\n",
      "                - WDBC-Benign\n",
      "\n",
      "    :Summary Statistics:\n",
      "\n",
      "    ===================================== ====== ======\n",
      "                                           Min    Max\n",
      "    ===================================== ====== ======\n",
      "    radius (mean):                        6.981  28.11\n",
      "    texture (mean):                       9.71   39.28\n",
      "    perimeter (mean):                     43.79  188.5\n",
      "    area (mean):                          143.5  2501.0\n",
      "    smoothness (mean):                    0.053  0.163\n",
      "    compactness (mean):                   0.019  0.345\n",
      "    concavity (mean):                     0.0    0.427\n",
      "    concave points (mean):                0.0    0.201\n",
      "    symmetry (mean):                      0.106  0.304\n",
      "    fractal dimension (mean):             0.05   0.097\n",
      "    radius (standard error):              0.112  2.873\n",
      "    texture (standard error):             0.36   4.885\n",
      "    perimeter (standard error):           0.757  21.98\n",
      "    area (standard error):                6.802  542.2\n",
      "    smoothness (standard error):          0.002  0.031\n",
      "    compactness (standard error):         0.002  0.135\n",
      "    concavity (standard error):           0.0    0.396\n",
      "    concave points (standard error):      0.0    0.053\n",
      "    symmetry (standard error):            0.008  0.079\n",
      "    fractal dimension (standard error):   0.001  0.03\n",
      "    radius (worst):                       7.93   36.04\n",
      "    texture (worst):                      12.02  49.54\n",
      "    perimeter (worst):                    50.41  251.2\n",
      "    area (worst):                         185.2  4254.0\n",
      "    smoothness (worst):                   0.071  0.223\n",
      "    compactness (worst):                  0.027  1.058\n",
      "    concavity (worst):                    0.0    1.252\n",
      "    concave points (worst):               0.0    0.291\n",
      "    symmetry (worst):                     0.156  0.664\n",
      "    fractal dimension (worst):            0.055  0.208\n",
      "    ===================================== ====== ======\n",
      "\n",
      "    :Missing Attribute Values: None\n",
      "\n",
      "    :Class Distribution: 212 - Malignant, 357 - Benign\n",
      "\n",
      "    :Creator:  Dr. William H. Wolberg, W. Nick Street, Olvi L. Mangasarian\n",
      "\n",
      "    :Donor: Nick Street\n",
      "\n",
      "    :Date: November, 1995\n",
      "\n",
      "This is a copy of UCI ML Breast Cancer Wisconsin (Diagnostic) datasets.\n",
      "https://goo.gl/U2Uwz2\n",
      "\n",
      "Features are computed from a digitized image of a fine needle\n",
      "aspirate (FNA) of a breast mass.  They describe\n",
      "characteristics of the cell nuclei present in the image.\n",
      "\n",
      "Separating plane described above was obtained using\n",
      "Multisurface Method-Tree (MSM-T) [K. P. Bennett, \"Decision Tree\n",
      "Construction Via Linear Programming.\" Proceedings of the 4th\n",
      "Midwest Artificial Intelligence and Cognitive Science Society,\n",
      "pp. 97-101, 1992], a classification method which uses linear\n",
      "programming to construct a decision tree.  Relevant features\n",
      "were selected using an exhaustive search in the space of 1-4\n",
      "features and 1-3 separating planes.\n",
      "\n",
      "The actual linear program used to obtain the separating plane\n",
      "in the 3-dimensional space is that described in:\n",
      "[K. P. Bennett and O. L. Mangasarian: \"Robust Linear\n",
      "Programming Discrimination of Two Linearly Inseparable Sets\",\n",
      "Optimization Methods and Software 1, 1992, 23-34].\n",
      "\n",
      "This database is also available through the UW CS ftp server:\n",
      "\n",
      "ftp ftp.cs.wisc.edu\n",
      "cd math-prog/cpo-dataset/machine-learn/WDBC/\n",
      "\n",
      ".. topic:: References\n",
      "\n",
      "   - W.N. Street, W.H. Wolberg and O.L. Mangasarian. Nuclear feature extraction \n",
      "     for breast tumor diagnosis. IS&T/SPIE 1993 International Symposium on \n",
      "     Electronic Imaging: Science and Technology, volume 1905, pages 861-870,\n",
      "     San Jose, CA, 1993.\n",
      "   - O.L. Mangasarian, W.N. Street and W.H. Wolberg. Breast cancer diagnosis and \n",
      "     prognosis via linear programming. Operations Research, 43(4), pages 570-577, \n",
      "     July-August 1995.\n",
      "   - W.H. Wolberg, W.N. Street, and O.L. Mangasarian. Machine learning techniques\n",
      "     to diagnose breast cancer from fine-needle aspirates. Cancer Letters 77 (1994) \n",
      "     163-171.\n"
     ]
    }
   ],
   "source": [
    "print(ds.DESCR)"
   ]
  },
  {
   "cell_type": "code",
   "execution_count": 4,
   "metadata": {
    "scrolled": true
   },
   "outputs": [
    {
     "data": {
      "text/html": [
       "<div>\n",
       "<style scoped>\n",
       "    .dataframe tbody tr th:only-of-type {\n",
       "        vertical-align: middle;\n",
       "    }\n",
       "\n",
       "    .dataframe tbody tr th {\n",
       "        vertical-align: top;\n",
       "    }\n",
       "\n",
       "    .dataframe thead th {\n",
       "        text-align: right;\n",
       "    }\n",
       "</style>\n",
       "<table border=\"1\" class=\"dataframe\">\n",
       "  <thead>\n",
       "    <tr style=\"text-align: right;\">\n",
       "      <th></th>\n",
       "      <th>mean radius</th>\n",
       "      <th>mean texture</th>\n",
       "      <th>mean perimeter</th>\n",
       "      <th>mean area</th>\n",
       "      <th>mean smoothness</th>\n",
       "      <th>mean compactness</th>\n",
       "      <th>mean concavity</th>\n",
       "      <th>mean concave points</th>\n",
       "      <th>mean symmetry</th>\n",
       "      <th>mean fractal dimension</th>\n",
       "      <th>...</th>\n",
       "      <th>worst texture</th>\n",
       "      <th>worst perimeter</th>\n",
       "      <th>worst area</th>\n",
       "      <th>worst smoothness</th>\n",
       "      <th>worst compactness</th>\n",
       "      <th>worst concavity</th>\n",
       "      <th>worst concave points</th>\n",
       "      <th>worst symmetry</th>\n",
       "      <th>worst fractal dimension</th>\n",
       "      <th>target</th>\n",
       "    </tr>\n",
       "  </thead>\n",
       "  <tbody>\n",
       "    <tr>\n",
       "      <th>0</th>\n",
       "      <td>17.99</td>\n",
       "      <td>10.38</td>\n",
       "      <td>122.80</td>\n",
       "      <td>1001.0</td>\n",
       "      <td>0.11840</td>\n",
       "      <td>0.27760</td>\n",
       "      <td>0.3001</td>\n",
       "      <td>0.14710</td>\n",
       "      <td>0.2419</td>\n",
       "      <td>0.07871</td>\n",
       "      <td>...</td>\n",
       "      <td>17.33</td>\n",
       "      <td>184.60</td>\n",
       "      <td>2019.0</td>\n",
       "      <td>0.1622</td>\n",
       "      <td>0.6656</td>\n",
       "      <td>0.7119</td>\n",
       "      <td>0.2654</td>\n",
       "      <td>0.4601</td>\n",
       "      <td>0.11890</td>\n",
       "      <td>0</td>\n",
       "    </tr>\n",
       "    <tr>\n",
       "      <th>1</th>\n",
       "      <td>20.57</td>\n",
       "      <td>17.77</td>\n",
       "      <td>132.90</td>\n",
       "      <td>1326.0</td>\n",
       "      <td>0.08474</td>\n",
       "      <td>0.07864</td>\n",
       "      <td>0.0869</td>\n",
       "      <td>0.07017</td>\n",
       "      <td>0.1812</td>\n",
       "      <td>0.05667</td>\n",
       "      <td>...</td>\n",
       "      <td>23.41</td>\n",
       "      <td>158.80</td>\n",
       "      <td>1956.0</td>\n",
       "      <td>0.1238</td>\n",
       "      <td>0.1866</td>\n",
       "      <td>0.2416</td>\n",
       "      <td>0.1860</td>\n",
       "      <td>0.2750</td>\n",
       "      <td>0.08902</td>\n",
       "      <td>0</td>\n",
       "    </tr>\n",
       "    <tr>\n",
       "      <th>2</th>\n",
       "      <td>19.69</td>\n",
       "      <td>21.25</td>\n",
       "      <td>130.00</td>\n",
       "      <td>1203.0</td>\n",
       "      <td>0.10960</td>\n",
       "      <td>0.15990</td>\n",
       "      <td>0.1974</td>\n",
       "      <td>0.12790</td>\n",
       "      <td>0.2069</td>\n",
       "      <td>0.05999</td>\n",
       "      <td>...</td>\n",
       "      <td>25.53</td>\n",
       "      <td>152.50</td>\n",
       "      <td>1709.0</td>\n",
       "      <td>0.1444</td>\n",
       "      <td>0.4245</td>\n",
       "      <td>0.4504</td>\n",
       "      <td>0.2430</td>\n",
       "      <td>0.3613</td>\n",
       "      <td>0.08758</td>\n",
       "      <td>0</td>\n",
       "    </tr>\n",
       "    <tr>\n",
       "      <th>3</th>\n",
       "      <td>11.42</td>\n",
       "      <td>20.38</td>\n",
       "      <td>77.58</td>\n",
       "      <td>386.1</td>\n",
       "      <td>0.14250</td>\n",
       "      <td>0.28390</td>\n",
       "      <td>0.2414</td>\n",
       "      <td>0.10520</td>\n",
       "      <td>0.2597</td>\n",
       "      <td>0.09744</td>\n",
       "      <td>...</td>\n",
       "      <td>26.50</td>\n",
       "      <td>98.87</td>\n",
       "      <td>567.7</td>\n",
       "      <td>0.2098</td>\n",
       "      <td>0.8663</td>\n",
       "      <td>0.6869</td>\n",
       "      <td>0.2575</td>\n",
       "      <td>0.6638</td>\n",
       "      <td>0.17300</td>\n",
       "      <td>0</td>\n",
       "    </tr>\n",
       "    <tr>\n",
       "      <th>4</th>\n",
       "      <td>20.29</td>\n",
       "      <td>14.34</td>\n",
       "      <td>135.10</td>\n",
       "      <td>1297.0</td>\n",
       "      <td>0.10030</td>\n",
       "      <td>0.13280</td>\n",
       "      <td>0.1980</td>\n",
       "      <td>0.10430</td>\n",
       "      <td>0.1809</td>\n",
       "      <td>0.05883</td>\n",
       "      <td>...</td>\n",
       "      <td>16.67</td>\n",
       "      <td>152.20</td>\n",
       "      <td>1575.0</td>\n",
       "      <td>0.1374</td>\n",
       "      <td>0.2050</td>\n",
       "      <td>0.4000</td>\n",
       "      <td>0.1625</td>\n",
       "      <td>0.2364</td>\n",
       "      <td>0.07678</td>\n",
       "      <td>0</td>\n",
       "    </tr>\n",
       "  </tbody>\n",
       "</table>\n",
       "<p>5 rows × 31 columns</p>\n",
       "</div>"
      ],
      "text/plain": [
       "   mean radius  mean texture  mean perimeter  mean area  mean smoothness  \\\n",
       "0        17.99         10.38          122.80     1001.0          0.11840   \n",
       "1        20.57         17.77          132.90     1326.0          0.08474   \n",
       "2        19.69         21.25          130.00     1203.0          0.10960   \n",
       "3        11.42         20.38           77.58      386.1          0.14250   \n",
       "4        20.29         14.34          135.10     1297.0          0.10030   \n",
       "\n",
       "   mean compactness  mean concavity  mean concave points  mean symmetry  \\\n",
       "0           0.27760          0.3001              0.14710         0.2419   \n",
       "1           0.07864          0.0869              0.07017         0.1812   \n",
       "2           0.15990          0.1974              0.12790         0.2069   \n",
       "3           0.28390          0.2414              0.10520         0.2597   \n",
       "4           0.13280          0.1980              0.10430         0.1809   \n",
       "\n",
       "   mean fractal dimension  ...  worst texture  worst perimeter  worst area  \\\n",
       "0                 0.07871  ...          17.33           184.60      2019.0   \n",
       "1                 0.05667  ...          23.41           158.80      1956.0   \n",
       "2                 0.05999  ...          25.53           152.50      1709.0   \n",
       "3                 0.09744  ...          26.50            98.87       567.7   \n",
       "4                 0.05883  ...          16.67           152.20      1575.0   \n",
       "\n",
       "   worst smoothness  worst compactness  worst concavity  worst concave points  \\\n",
       "0            0.1622             0.6656           0.7119                0.2654   \n",
       "1            0.1238             0.1866           0.2416                0.1860   \n",
       "2            0.1444             0.4245           0.4504                0.2430   \n",
       "3            0.2098             0.8663           0.6869                0.2575   \n",
       "4            0.1374             0.2050           0.4000                0.1625   \n",
       "\n",
       "   worst symmetry  worst fractal dimension  target  \n",
       "0          0.4601                  0.11890       0  \n",
       "1          0.2750                  0.08902       0  \n",
       "2          0.3613                  0.08758       0  \n",
       "3          0.6638                  0.17300       0  \n",
       "4          0.2364                  0.07678       0  \n",
       "\n",
       "[5 rows x 31 columns]"
      ]
     },
     "execution_count": 4,
     "metadata": {},
     "output_type": "execute_result"
    }
   ],
   "source": [
    "ds.frame.head()"
   ]
  },
  {
   "cell_type": "code",
   "execution_count": 5,
   "metadata": {},
   "outputs": [
    {
     "data": {
      "text/plain": [
       "1    357\n",
       "0    212\n",
       "Name: target, dtype: int64"
      ]
     },
     "execution_count": 5,
     "metadata": {},
     "output_type": "execute_result"
    }
   ],
   "source": [
    "ds.frame['target'].value_counts()"
   ]
  },
  {
   "cell_type": "code",
   "execution_count": 6,
   "metadata": {},
   "outputs": [
    {
     "name": "stdout",
     "output_type": "stream",
     "text": [
      "<class 'pandas.core.frame.DataFrame'>\n",
      "RangeIndex: 569 entries, 0 to 568\n",
      "Data columns (total 31 columns):\n",
      " #   Column                   Non-Null Count  Dtype  \n",
      "---  ------                   --------------  -----  \n",
      " 0   mean radius              569 non-null    float64\n",
      " 1   mean texture             569 non-null    float64\n",
      " 2   mean perimeter           569 non-null    float64\n",
      " 3   mean area                569 non-null    float64\n",
      " 4   mean smoothness          569 non-null    float64\n",
      " 5   mean compactness         569 non-null    float64\n",
      " 6   mean concavity           569 non-null    float64\n",
      " 7   mean concave points      569 non-null    float64\n",
      " 8   mean symmetry            569 non-null    float64\n",
      " 9   mean fractal dimension   569 non-null    float64\n",
      " 10  radius error             569 non-null    float64\n",
      " 11  texture error            569 non-null    float64\n",
      " 12  perimeter error          569 non-null    float64\n",
      " 13  area error               569 non-null    float64\n",
      " 14  smoothness error         569 non-null    float64\n",
      " 15  compactness error        569 non-null    float64\n",
      " 16  concavity error          569 non-null    float64\n",
      " 17  concave points error     569 non-null    float64\n",
      " 18  symmetry error           569 non-null    float64\n",
      " 19  fractal dimension error  569 non-null    float64\n",
      " 20  worst radius             569 non-null    float64\n",
      " 21  worst texture            569 non-null    float64\n",
      " 22  worst perimeter          569 non-null    float64\n",
      " 23  worst area               569 non-null    float64\n",
      " 24  worst smoothness         569 non-null    float64\n",
      " 25  worst compactness        569 non-null    float64\n",
      " 26  worst concavity          569 non-null    float64\n",
      " 27  worst concave points     569 non-null    float64\n",
      " 28  worst symmetry           569 non-null    float64\n",
      " 29  worst fractal dimension  569 non-null    float64\n",
      " 30  target                   569 non-null    int64  \n",
      "dtypes: float64(30), int64(1)\n",
      "memory usage: 137.9 KB\n"
     ]
    }
   ],
   "source": [
    "ds.frame.info()"
   ]
  },
  {
   "cell_type": "code",
   "execution_count": 7,
   "metadata": {},
   "outputs": [
    {
     "data": {
      "text/html": [
       "<div>\n",
       "<style scoped>\n",
       "    .dataframe tbody tr th:only-of-type {\n",
       "        vertical-align: middle;\n",
       "    }\n",
       "\n",
       "    .dataframe tbody tr th {\n",
       "        vertical-align: top;\n",
       "    }\n",
       "\n",
       "    .dataframe thead th {\n",
       "        text-align: right;\n",
       "    }\n",
       "</style>\n",
       "<table border=\"1\" class=\"dataframe\">\n",
       "  <thead>\n",
       "    <tr style=\"text-align: right;\">\n",
       "      <th></th>\n",
       "      <th>mean radius</th>\n",
       "      <th>mean texture</th>\n",
       "      <th>mean perimeter</th>\n",
       "      <th>mean area</th>\n",
       "      <th>mean smoothness</th>\n",
       "      <th>mean compactness</th>\n",
       "      <th>mean concavity</th>\n",
       "      <th>mean concave points</th>\n",
       "      <th>mean symmetry</th>\n",
       "      <th>mean fractal dimension</th>\n",
       "      <th>...</th>\n",
       "      <th>worst texture</th>\n",
       "      <th>worst perimeter</th>\n",
       "      <th>worst area</th>\n",
       "      <th>worst smoothness</th>\n",
       "      <th>worst compactness</th>\n",
       "      <th>worst concavity</th>\n",
       "      <th>worst concave points</th>\n",
       "      <th>worst symmetry</th>\n",
       "      <th>worst fractal dimension</th>\n",
       "      <th>target</th>\n",
       "    </tr>\n",
       "  </thead>\n",
       "  <tbody>\n",
       "    <tr>\n",
       "      <th>count</th>\n",
       "      <td>569.000000</td>\n",
       "      <td>569.000000</td>\n",
       "      <td>569.000000</td>\n",
       "      <td>569.000000</td>\n",
       "      <td>569.000000</td>\n",
       "      <td>569.000000</td>\n",
       "      <td>569.000000</td>\n",
       "      <td>569.000000</td>\n",
       "      <td>569.000000</td>\n",
       "      <td>569.000000</td>\n",
       "      <td>...</td>\n",
       "      <td>569.000000</td>\n",
       "      <td>569.000000</td>\n",
       "      <td>569.000000</td>\n",
       "      <td>569.000000</td>\n",
       "      <td>569.000000</td>\n",
       "      <td>569.000000</td>\n",
       "      <td>569.000000</td>\n",
       "      <td>569.000000</td>\n",
       "      <td>569.000000</td>\n",
       "      <td>569.000000</td>\n",
       "    </tr>\n",
       "    <tr>\n",
       "      <th>mean</th>\n",
       "      <td>14.127292</td>\n",
       "      <td>19.289649</td>\n",
       "      <td>91.969033</td>\n",
       "      <td>654.889104</td>\n",
       "      <td>0.096360</td>\n",
       "      <td>0.104341</td>\n",
       "      <td>0.088799</td>\n",
       "      <td>0.048919</td>\n",
       "      <td>0.181162</td>\n",
       "      <td>0.062798</td>\n",
       "      <td>...</td>\n",
       "      <td>25.677223</td>\n",
       "      <td>107.261213</td>\n",
       "      <td>880.583128</td>\n",
       "      <td>0.132369</td>\n",
       "      <td>0.254265</td>\n",
       "      <td>0.272188</td>\n",
       "      <td>0.114606</td>\n",
       "      <td>0.290076</td>\n",
       "      <td>0.083946</td>\n",
       "      <td>0.627417</td>\n",
       "    </tr>\n",
       "    <tr>\n",
       "      <th>std</th>\n",
       "      <td>3.524049</td>\n",
       "      <td>4.301036</td>\n",
       "      <td>24.298981</td>\n",
       "      <td>351.914129</td>\n",
       "      <td>0.014064</td>\n",
       "      <td>0.052813</td>\n",
       "      <td>0.079720</td>\n",
       "      <td>0.038803</td>\n",
       "      <td>0.027414</td>\n",
       "      <td>0.007060</td>\n",
       "      <td>...</td>\n",
       "      <td>6.146258</td>\n",
       "      <td>33.602542</td>\n",
       "      <td>569.356993</td>\n",
       "      <td>0.022832</td>\n",
       "      <td>0.157336</td>\n",
       "      <td>0.208624</td>\n",
       "      <td>0.065732</td>\n",
       "      <td>0.061867</td>\n",
       "      <td>0.018061</td>\n",
       "      <td>0.483918</td>\n",
       "    </tr>\n",
       "    <tr>\n",
       "      <th>min</th>\n",
       "      <td>6.981000</td>\n",
       "      <td>9.710000</td>\n",
       "      <td>43.790000</td>\n",
       "      <td>143.500000</td>\n",
       "      <td>0.052630</td>\n",
       "      <td>0.019380</td>\n",
       "      <td>0.000000</td>\n",
       "      <td>0.000000</td>\n",
       "      <td>0.106000</td>\n",
       "      <td>0.049960</td>\n",
       "      <td>...</td>\n",
       "      <td>12.020000</td>\n",
       "      <td>50.410000</td>\n",
       "      <td>185.200000</td>\n",
       "      <td>0.071170</td>\n",
       "      <td>0.027290</td>\n",
       "      <td>0.000000</td>\n",
       "      <td>0.000000</td>\n",
       "      <td>0.156500</td>\n",
       "      <td>0.055040</td>\n",
       "      <td>0.000000</td>\n",
       "    </tr>\n",
       "    <tr>\n",
       "      <th>25%</th>\n",
       "      <td>11.700000</td>\n",
       "      <td>16.170000</td>\n",
       "      <td>75.170000</td>\n",
       "      <td>420.300000</td>\n",
       "      <td>0.086370</td>\n",
       "      <td>0.064920</td>\n",
       "      <td>0.029560</td>\n",
       "      <td>0.020310</td>\n",
       "      <td>0.161900</td>\n",
       "      <td>0.057700</td>\n",
       "      <td>...</td>\n",
       "      <td>21.080000</td>\n",
       "      <td>84.110000</td>\n",
       "      <td>515.300000</td>\n",
       "      <td>0.116600</td>\n",
       "      <td>0.147200</td>\n",
       "      <td>0.114500</td>\n",
       "      <td>0.064930</td>\n",
       "      <td>0.250400</td>\n",
       "      <td>0.071460</td>\n",
       "      <td>0.000000</td>\n",
       "    </tr>\n",
       "    <tr>\n",
       "      <th>50%</th>\n",
       "      <td>13.370000</td>\n",
       "      <td>18.840000</td>\n",
       "      <td>86.240000</td>\n",
       "      <td>551.100000</td>\n",
       "      <td>0.095870</td>\n",
       "      <td>0.092630</td>\n",
       "      <td>0.061540</td>\n",
       "      <td>0.033500</td>\n",
       "      <td>0.179200</td>\n",
       "      <td>0.061540</td>\n",
       "      <td>...</td>\n",
       "      <td>25.410000</td>\n",
       "      <td>97.660000</td>\n",
       "      <td>686.500000</td>\n",
       "      <td>0.131300</td>\n",
       "      <td>0.211900</td>\n",
       "      <td>0.226700</td>\n",
       "      <td>0.099930</td>\n",
       "      <td>0.282200</td>\n",
       "      <td>0.080040</td>\n",
       "      <td>1.000000</td>\n",
       "    </tr>\n",
       "    <tr>\n",
       "      <th>75%</th>\n",
       "      <td>15.780000</td>\n",
       "      <td>21.800000</td>\n",
       "      <td>104.100000</td>\n",
       "      <td>782.700000</td>\n",
       "      <td>0.105300</td>\n",
       "      <td>0.130400</td>\n",
       "      <td>0.130700</td>\n",
       "      <td>0.074000</td>\n",
       "      <td>0.195700</td>\n",
       "      <td>0.066120</td>\n",
       "      <td>...</td>\n",
       "      <td>29.720000</td>\n",
       "      <td>125.400000</td>\n",
       "      <td>1084.000000</td>\n",
       "      <td>0.146000</td>\n",
       "      <td>0.339100</td>\n",
       "      <td>0.382900</td>\n",
       "      <td>0.161400</td>\n",
       "      <td>0.317900</td>\n",
       "      <td>0.092080</td>\n",
       "      <td>1.000000</td>\n",
       "    </tr>\n",
       "    <tr>\n",
       "      <th>max</th>\n",
       "      <td>28.110000</td>\n",
       "      <td>39.280000</td>\n",
       "      <td>188.500000</td>\n",
       "      <td>2501.000000</td>\n",
       "      <td>0.163400</td>\n",
       "      <td>0.345400</td>\n",
       "      <td>0.426800</td>\n",
       "      <td>0.201200</td>\n",
       "      <td>0.304000</td>\n",
       "      <td>0.097440</td>\n",
       "      <td>...</td>\n",
       "      <td>49.540000</td>\n",
       "      <td>251.200000</td>\n",
       "      <td>4254.000000</td>\n",
       "      <td>0.222600</td>\n",
       "      <td>1.058000</td>\n",
       "      <td>1.252000</td>\n",
       "      <td>0.291000</td>\n",
       "      <td>0.663800</td>\n",
       "      <td>0.207500</td>\n",
       "      <td>1.000000</td>\n",
       "    </tr>\n",
       "  </tbody>\n",
       "</table>\n",
       "<p>8 rows × 31 columns</p>\n",
       "</div>"
      ],
      "text/plain": [
       "       mean radius  mean texture  mean perimeter    mean area  \\\n",
       "count   569.000000    569.000000      569.000000   569.000000   \n",
       "mean     14.127292     19.289649       91.969033   654.889104   \n",
       "std       3.524049      4.301036       24.298981   351.914129   \n",
       "min       6.981000      9.710000       43.790000   143.500000   \n",
       "25%      11.700000     16.170000       75.170000   420.300000   \n",
       "50%      13.370000     18.840000       86.240000   551.100000   \n",
       "75%      15.780000     21.800000      104.100000   782.700000   \n",
       "max      28.110000     39.280000      188.500000  2501.000000   \n",
       "\n",
       "       mean smoothness  mean compactness  mean concavity  mean concave points  \\\n",
       "count       569.000000        569.000000      569.000000           569.000000   \n",
       "mean          0.096360          0.104341        0.088799             0.048919   \n",
       "std           0.014064          0.052813        0.079720             0.038803   \n",
       "min           0.052630          0.019380        0.000000             0.000000   \n",
       "25%           0.086370          0.064920        0.029560             0.020310   \n",
       "50%           0.095870          0.092630        0.061540             0.033500   \n",
       "75%           0.105300          0.130400        0.130700             0.074000   \n",
       "max           0.163400          0.345400        0.426800             0.201200   \n",
       "\n",
       "       mean symmetry  mean fractal dimension  ...  worst texture  \\\n",
       "count     569.000000              569.000000  ...     569.000000   \n",
       "mean        0.181162                0.062798  ...      25.677223   \n",
       "std         0.027414                0.007060  ...       6.146258   \n",
       "min         0.106000                0.049960  ...      12.020000   \n",
       "25%         0.161900                0.057700  ...      21.080000   \n",
       "50%         0.179200                0.061540  ...      25.410000   \n",
       "75%         0.195700                0.066120  ...      29.720000   \n",
       "max         0.304000                0.097440  ...      49.540000   \n",
       "\n",
       "       worst perimeter   worst area  worst smoothness  worst compactness  \\\n",
       "count       569.000000   569.000000        569.000000         569.000000   \n",
       "mean        107.261213   880.583128          0.132369           0.254265   \n",
       "std          33.602542   569.356993          0.022832           0.157336   \n",
       "min          50.410000   185.200000          0.071170           0.027290   \n",
       "25%          84.110000   515.300000          0.116600           0.147200   \n",
       "50%          97.660000   686.500000          0.131300           0.211900   \n",
       "75%         125.400000  1084.000000          0.146000           0.339100   \n",
       "max         251.200000  4254.000000          0.222600           1.058000   \n",
       "\n",
       "       worst concavity  worst concave points  worst symmetry  \\\n",
       "count       569.000000            569.000000      569.000000   \n",
       "mean          0.272188              0.114606        0.290076   \n",
       "std           0.208624              0.065732        0.061867   \n",
       "min           0.000000              0.000000        0.156500   \n",
       "25%           0.114500              0.064930        0.250400   \n",
       "50%           0.226700              0.099930        0.282200   \n",
       "75%           0.382900              0.161400        0.317900   \n",
       "max           1.252000              0.291000        0.663800   \n",
       "\n",
       "       worst fractal dimension      target  \n",
       "count               569.000000  569.000000  \n",
       "mean                  0.083946    0.627417  \n",
       "std                   0.018061    0.483918  \n",
       "min                   0.055040    0.000000  \n",
       "25%                   0.071460    0.000000  \n",
       "50%                   0.080040    1.000000  \n",
       "75%                   0.092080    1.000000  \n",
       "max                   0.207500    1.000000  \n",
       "\n",
       "[8 rows x 31 columns]"
      ]
     },
     "execution_count": 7,
     "metadata": {},
     "output_type": "execute_result"
    }
   ],
   "source": [
    "ds.frame.describe()"
   ]
  },
  {
   "cell_type": "code",
   "execution_count": 8,
   "metadata": {},
   "outputs": [],
   "source": [
    "X, y = ds.frame.iloc[:,:-1], ds.frame.iloc[:,-1]\n",
    "# X = ds.data\n",
    "# y = ds.target"
   ]
  },
  {
   "cell_type": "markdown",
   "metadata": {},
   "source": [
    "### Train-test split\n",
    "\n",
    "Make an 80%-20% split"
   ]
  },
  {
   "cell_type": "code",
   "execution_count": 9,
   "metadata": {},
   "outputs": [],
   "source": [
    "# Split function\n",
    "from sklearn.model_selection import train_test_split"
   ]
  },
  {
   "cell_type": "code",
   "execution_count": 10,
   "metadata": {},
   "outputs": [],
   "source": [
    "X_train, X_test, y_train, y_test = train_test_split(X, y, test_size=0.2, random_state=6734)"
   ]
  },
  {
   "cell_type": "markdown",
   "metadata": {},
   "source": [
    "## Gradient boosting decision tree\n",
    "\n",
    "Construct the classifier and train using train data."
   ]
  },
  {
   "cell_type": "code",
   "execution_count": 11,
   "metadata": {},
   "outputs": [],
   "source": [
    "# XGBoost\n",
    "import xgboost as xgb"
   ]
  },
  {
   "cell_type": "markdown",
   "metadata": {},
   "source": [
    "Classifier definition"
   ]
  },
  {
   "cell_type": "code",
   "execution_count": 12,
   "metadata": {},
   "outputs": [],
   "source": [
    "xgb_classifier = xgb.XGBClassifier(n_estimators=10, \n",
    "                                   objective='binary:logistic', \n",
    "                                   booster='gbtree', # reiterating that we use gradient boosting \n",
    "                                   use_label_encoder=False,\n",
    "                                   max_depth=5, \n",
    "                                   learning_rate=0.1)"
   ]
  },
  {
   "cell_type": "markdown",
   "metadata": {},
   "source": [
    "train the `xgb_classifier` instance"
   ]
  },
  {
   "cell_type": "code",
   "execution_count": 13,
   "metadata": {},
   "outputs": [
    {
     "data": {
      "text/plain": [
       "XGBClassifier(base_score=0.5, booster='gbtree', colsample_bylevel=1,\n",
       "              colsample_bynode=1, colsample_bytree=1, gamma=0, gpu_id=-1,\n",
       "              importance_type='gain', interaction_constraints='',\n",
       "              learning_rate=0.1, max_delta_step=0, max_depth=5,\n",
       "              min_child_weight=1, missing=nan, monotone_constraints='()',\n",
       "              n_estimators=10, n_jobs=8, num_parallel_tree=1, random_state=0,\n",
       "              reg_alpha=0, reg_lambda=1, scale_pos_weight=1, subsample=1,\n",
       "              tree_method='exact', use_label_encoder=False,\n",
       "              validate_parameters=1, verbosity=None)"
      ]
     },
     "execution_count": 13,
     "metadata": {},
     "output_type": "execute_result"
    }
   ],
   "source": [
    "xgb_classifier.fit(X_train, y_train, eval_metric='logloss')"
   ]
  },
  {
   "cell_type": "markdown",
   "metadata": {},
   "source": [
    "## Classifier performance: ROC\n",
    "\n",
    "For the ROC we compare the actual observations with the prediction using the test data. "
   ]
  },
  {
   "cell_type": "code",
   "execution_count": 14,
   "metadata": {},
   "outputs": [],
   "source": [
    "from sklearn.metrics import roc_auc_score"
   ]
  },
  {
   "cell_type": "code",
   "execution_count": 15,
   "metadata": {},
   "outputs": [
    {
     "name": "stdout",
     "output_type": "stream",
     "text": [
      "No Skill: ROC AUC=0.500\n",
      "Classifier: ROC AUC=0.969\n"
     ]
    }
   ],
   "source": [
    "# No skill classifier for comparisson\n",
    "ns_pred = [0 for _ in range(len(y_test))]\n",
    "ns_auc = roc_auc_score(y_test, ns_pred)\n",
    "# Actual classifier\n",
    "y_pred = xgb_classifier.predict(X_test)\n",
    "cl_auc = roc_auc_score(y_test, y_pred)\n",
    "print('No Skill: ROC AUC=%.3f' % (ns_auc))\n",
    "print('Classifier: ROC AUC=%.3f' % (cl_auc))"
   ]
  },
  {
   "cell_type": "markdown",
   "metadata": {},
   "source": [
    "## Tuning learning parameters using cross validation\n",
    "\n",
    "To tune parameters in the classifier, for exmaple: `learning_rate`, we use cross validation."
   ]
  },
  {
   "cell_type": "code",
   "execution_count": 16,
   "metadata": {},
   "outputs": [],
   "source": [
    "# from scipy import stats\n",
    "from sklearn.model_selection import GridSearchCV, KFold"
   ]
  },
  {
   "cell_type": "markdown",
   "metadata": {},
   "source": [
    "First, we construct the classifier without specifying tuning parameters and define trunning paramaters in a dictionary"
   ]
  },
  {
   "cell_type": "code",
   "execution_count": 17,
   "metadata": {},
   "outputs": [],
   "source": [
    "xgb_classifier = xgb.XGBClassifier(objective='binary:logistic', \n",
    "                                   booster='gbtree',\n",
    "                                   use_label_encoder=False)\n",
    "params = {'n_estimators': [10, 50, 100],\n",
    "          'learning_rate': [0.01, 0.05, 0.1]}"
   ]
  },
  {
   "cell_type": "markdown",
   "metadata": {},
   "source": [
    "Then, we use use for loops to run fit the classifier using for all possible parameter values and each cross validation fold. This is provided by the function `GridSearchCV`."
   ]
  },
  {
   "cell_type": "markdown",
   "metadata": {},
   "source": [
    "In the verbose results we have 3 `n_estimators` times 3 `learning_rate` times 4 folds equals = 36 fits."
   ]
  },
  {
   "cell_type": "code",
   "execution_count": 18,
   "metadata": {},
   "outputs": [
    {
     "name": "stdout",
     "output_type": "stream",
     "text": [
      "Fitting 4 folds for each of 9 candidates, totalling 36 fits\n",
      "[CV] learning_rate=0.01, n_estimators=10 .............................\n",
      "[CV] . learning_rate=0.01, n_estimators=10, score=0.970, total=   0.0s\n",
      "[CV] learning_rate=0.01, n_estimators=10 .............................\n",
      "[CV] . learning_rate=0.01, n_estimators=10, score=0.965, total=   0.0s\n",
      "[CV] learning_rate=0.01, n_estimators=10 .............................\n",
      "[CV] . learning_rate=0.01, n_estimators=10, score=0.969, total=   0.0s\n",
      "[CV] learning_rate=0.01, n_estimators=10 .............................\n",
      "[CV] . learning_rate=0.01, n_estimators=10, score=0.986, total=   0.0s\n",
      "[CV] learning_rate=0.01, n_estimators=50 .............................\n"
     ]
    },
    {
     "name": "stderr",
     "output_type": "stream",
     "text": [
      "[Parallel(n_jobs=1)]: Using backend SequentialBackend with 1 concurrent workers.\n",
      "[Parallel(n_jobs=1)]: Done   1 out of   1 | elapsed:    0.0s remaining:    0.0s\n",
      "[Parallel(n_jobs=1)]: Done   2 out of   2 | elapsed:    0.1s remaining:    0.0s\n"
     ]
    },
    {
     "name": "stdout",
     "output_type": "stream",
     "text": [
      "[CV] . learning_rate=0.01, n_estimators=50, score=0.969, total=   0.3s\n",
      "[CV] learning_rate=0.01, n_estimators=50 .............................\n",
      "[CV] . learning_rate=0.01, n_estimators=50, score=0.976, total=   0.0s\n",
      "[CV] learning_rate=0.01, n_estimators=50 .............................\n",
      "[CV] . learning_rate=0.01, n_estimators=50, score=0.975, total=   0.1s\n",
      "[CV] learning_rate=0.01, n_estimators=50 .............................\n",
      "[CV] . learning_rate=0.01, n_estimators=50, score=0.996, total=   0.2s\n",
      "[CV] learning_rate=0.01, n_estimators=100 ............................\n",
      "[CV]  learning_rate=0.01, n_estimators=100, score=0.987, total=   0.1s\n",
      "[CV] learning_rate=0.01, n_estimators=100 ............................\n",
      "[CV]  learning_rate=0.01, n_estimators=100, score=0.978, total=   0.1s\n",
      "[CV] learning_rate=0.01, n_estimators=100 ............................\n",
      "[CV]  learning_rate=0.01, n_estimators=100, score=0.981, total=   0.1s\n",
      "[CV] learning_rate=0.01, n_estimators=100 ............................\n",
      "[CV]  learning_rate=0.01, n_estimators=100, score=0.997, total=   0.1s\n",
      "[CV] learning_rate=0.05, n_estimators=10 .............................\n",
      "[CV] . learning_rate=0.05, n_estimators=10, score=0.969, total=   0.0s\n",
      "[CV] learning_rate=0.05, n_estimators=10 .............................\n",
      "[CV] . learning_rate=0.05, n_estimators=10, score=0.974, total=   0.0s\n",
      "[CV] learning_rate=0.05, n_estimators=10 .............................\n",
      "[CV] . learning_rate=0.05, n_estimators=10, score=0.975, total=   0.0s\n",
      "[CV] learning_rate=0.05, n_estimators=10 .............................\n",
      "[CV] . learning_rate=0.05, n_estimators=10, score=0.995, total=   0.0s\n",
      "[CV] learning_rate=0.05, n_estimators=50 .............................\n",
      "[CV] . learning_rate=0.05, n_estimators=50, score=0.992, total=   0.1s\n",
      "[CV] learning_rate=0.05, n_estimators=50 .............................\n",
      "[CV] . learning_rate=0.05, n_estimators=50, score=0.985, total=   0.1s\n",
      "[CV] learning_rate=0.05, n_estimators=50 .............................\n",
      "[CV] . learning_rate=0.05, n_estimators=50, score=0.987, total=   0.1s\n",
      "[CV] learning_rate=0.05, n_estimators=50 .............................\n",
      "[CV] . learning_rate=0.05, n_estimators=50, score=0.997, total=   0.0s\n",
      "[CV] learning_rate=0.05, n_estimators=100 ............................\n",
      "[CV]  learning_rate=0.05, n_estimators=100, score=0.994, total=   0.1s\n",
      "[CV] learning_rate=0.05, n_estimators=100 ............................\n",
      "[CV]  learning_rate=0.05, n_estimators=100, score=0.984, total=   0.1s\n",
      "[CV] learning_rate=0.05, n_estimators=100 ............................\n",
      "[CV]  learning_rate=0.05, n_estimators=100, score=0.986, total=   0.1s\n",
      "[CV] learning_rate=0.05, n_estimators=100 ............................\n",
      "[CV]  learning_rate=0.05, n_estimators=100, score=0.997, total=   0.4s\n",
      "[CV] learning_rate=0.1, n_estimators=10 ..............................\n",
      "[CV] .. learning_rate=0.1, n_estimators=10, score=0.979, total=   0.0s\n",
      "[CV] learning_rate=0.1, n_estimators=10 ..............................\n",
      "[CV] .. learning_rate=0.1, n_estimators=10, score=0.978, total=   0.0s\n",
      "[CV] learning_rate=0.1, n_estimators=10 ..............................\n",
      "[CV] .. learning_rate=0.1, n_estimators=10, score=0.972, total=   0.0s\n",
      "[CV] learning_rate=0.1, n_estimators=10 ..............................\n",
      "[CV] .. learning_rate=0.1, n_estimators=10, score=0.997, total=   0.0s\n",
      "[CV] learning_rate=0.1, n_estimators=50 ..............................\n",
      "[CV] .. learning_rate=0.1, n_estimators=50, score=0.995, total=   0.1s\n",
      "[CV] learning_rate=0.1, n_estimators=50 ..............................\n",
      "[CV] .. learning_rate=0.1, n_estimators=50, score=0.983, total=   0.0s\n",
      "[CV] learning_rate=0.1, n_estimators=50 ..............................\n",
      "[CV] .. learning_rate=0.1, n_estimators=50, score=0.985, total=   0.1s\n",
      "[CV] learning_rate=0.1, n_estimators=50 ..............................\n",
      "[CV] .. learning_rate=0.1, n_estimators=50, score=0.997, total=   0.0s\n",
      "[CV] learning_rate=0.1, n_estimators=100 .............................\n",
      "[CV] . learning_rate=0.1, n_estimators=100, score=0.996, total=   0.1s\n",
      "[CV] learning_rate=0.1, n_estimators=100 .............................\n",
      "[CV] . learning_rate=0.1, n_estimators=100, score=0.984, total=   0.1s\n",
      "[CV] learning_rate=0.1, n_estimators=100 .............................\n",
      "[CV] . learning_rate=0.1, n_estimators=100, score=0.986, total=   0.2s\n",
      "[CV] learning_rate=0.1, n_estimators=100 .............................\n",
      "[CV] . learning_rate=0.1, n_estimators=100, score=0.997, total=   0.1s\n"
     ]
    },
    {
     "name": "stderr",
     "output_type": "stream",
     "text": [
      "[Parallel(n_jobs=1)]: Done  36 out of  36 | elapsed:    3.0s finished\n"
     ]
    },
    {
     "data": {
      "text/plain": [
       "GridSearchCV(cv=4,\n",
       "             estimator=XGBClassifier(base_score=None, booster='gbtree',\n",
       "                                     colsample_bylevel=None,\n",
       "                                     colsample_bynode=None,\n",
       "                                     colsample_bytree=None, gamma=None,\n",
       "                                     gpu_id=None, importance_type='gain',\n",
       "                                     interaction_constraints=None,\n",
       "                                     learning_rate=None, max_delta_step=None,\n",
       "                                     max_depth=None, min_child_weight=None,\n",
       "                                     missing=nan, monotone_constraints=None,\n",
       "                                     n_estimators=100, n_jobs=None,\n",
       "                                     num_parallel_tree=None, random_state=None,\n",
       "                                     reg_alpha=None, reg_lambda=None,\n",
       "                                     scale_pos_weight=None, subsample=None,\n",
       "                                     tree_method=None, use_label_encoder=False,\n",
       "                                     validate_parameters=None, verbosity=None),\n",
       "             param_grid={'learning_rate': [0.01, 0.05, 0.1],\n",
       "                         'n_estimators': [10, 50, 100]},\n",
       "             scoring='roc_auc', verbose=3)"
      ]
     },
     "execution_count": 18,
     "metadata": {},
     "output_type": "execute_result"
    }
   ],
   "source": [
    "n_folds = 4\n",
    "cv_classifier = GridSearchCV(xgb_classifier, \n",
    "                             param_grid=params, \n",
    "                             scoring='roc_auc', # 'f1' is another choice\n",
    "                             cv=n_folds,\n",
    "                             verbose=3)\n",
    "cv_classifier.fit(X_train, y_train, eval_metric='logloss')"
   ]
  },
  {
   "cell_type": "markdown",
   "metadata": {},
   "source": [
    "The best parameters"
   ]
  },
  {
   "cell_type": "code",
   "execution_count": 19,
   "metadata": {},
   "outputs": [
    {
     "data": {
      "text/plain": [
       "{'learning_rate': 0.1, 'n_estimators': 100}"
      ]
     },
     "execution_count": 19,
     "metadata": {},
     "output_type": "execute_result"
    }
   ],
   "source": [
    "cv_classifier.best_params_"
   ]
  },
  {
   "cell_type": "markdown",
   "metadata": {},
   "source": [
    "provides the best estimator"
   ]
  },
  {
   "cell_type": "code",
   "execution_count": 20,
   "metadata": {},
   "outputs": [
    {
     "data": {
      "text/plain": [
       "XGBClassifier(base_score=0.5, booster='gbtree', colsample_bylevel=1,\n",
       "              colsample_bynode=1, colsample_bytree=1, gamma=0, gpu_id=-1,\n",
       "              importance_type='gain', interaction_constraints='',\n",
       "              learning_rate=0.1, max_delta_step=0, max_depth=6,\n",
       "              min_child_weight=1, missing=nan, monotone_constraints='()',\n",
       "              n_estimators=100, n_jobs=8, num_parallel_tree=1, random_state=0,\n",
       "              reg_alpha=0, reg_lambda=1, scale_pos_weight=1, subsample=1,\n",
       "              tree_method='exact', use_label_encoder=False,\n",
       "              validate_parameters=1, verbosity=None)"
      ]
     },
     "execution_count": 20,
     "metadata": {},
     "output_type": "execute_result"
    }
   ],
   "source": [
    "classifier = cv_classifier.best_estimator_\n",
    "classifier"
   ]
  },
  {
   "cell_type": "markdown",
   "metadata": {},
   "source": [
    "with score"
   ]
  },
  {
   "cell_type": "code",
   "execution_count": 21,
   "metadata": {},
   "outputs": [
    {
     "data": {
      "text/plain": [
       "0.9904816495874471"
      ]
     },
     "execution_count": 21,
     "metadata": {},
     "output_type": "execute_result"
    }
   ],
   "source": [
    "cv_classifier.best_score_"
   ]
  },
  {
   "cell_type": "code",
   "execution_count": 22,
   "metadata": {},
   "outputs": [
    {
     "name": "stdout",
     "output_type": "stream",
     "text": [
      "Classifier: ROC AUC=0.963\n"
     ]
    }
   ],
   "source": [
    "y_pred = classifier.predict(X_test)\n",
    "cl_auc = roc_auc_score(y_test, y_pred)\n",
    "print('Classifier: ROC AUC=%.3f' % (cl_auc))"
   ]
  },
  {
   "cell_type": "markdown",
   "metadata": {},
   "source": [
    "Alternatively, we can randomize the search of the best parameters instead of looping through a set of values. The advantage is that we provide a large range of parameter values. This is provided by `RandomizedSearchCV` using distributions in the `stats` library."
   ]
  },
  {
   "cell_type": "code",
   "execution_count": 23,
   "metadata": {},
   "outputs": [],
   "source": [
    "from scipy import stats\n",
    "from sklearn.model_selection import RandomizedSearchCV, KFold"
   ]
  },
  {
   "cell_type": "code",
   "execution_count": 24,
   "metadata": {
    "scrolled": false
   },
   "outputs": [
    {
     "name": "stdout",
     "output_type": "stream",
     "text": [
      "Fitting 4 folds for each of 40 candidates, totalling 160 fits\n",
      "[CV] learning_rate=0.06368375284328284, max_depth=5, n_estimators=145 \n",
      "[CV]  learning_rate=0.06368375284328284, max_depth=5, n_estimators=145, score=0.996, total=   0.1s\n",
      "[CV] learning_rate=0.06368375284328284, max_depth=5, n_estimators=145 \n",
      "[CV]  learning_rate=0.06368375284328284, max_depth=5, n_estimators=145, score=0.985, total=   0.1s\n",
      "[CV] learning_rate=0.06368375284328284, max_depth=5, n_estimators=145 \n"
     ]
    },
    {
     "name": "stderr",
     "output_type": "stream",
     "text": [
      "[Parallel(n_jobs=1)]: Using backend SequentialBackend with 1 concurrent workers.\n",
      "[Parallel(n_jobs=1)]: Done   1 out of   1 | elapsed:    0.1s remaining:    0.0s\n",
      "[Parallel(n_jobs=1)]: Done   2 out of   2 | elapsed:    0.2s remaining:    0.0s\n"
     ]
    },
    {
     "name": "stdout",
     "output_type": "stream",
     "text": [
      "[CV]  learning_rate=0.06368375284328284, max_depth=5, n_estimators=145, score=0.986, total=   0.1s\n",
      "[CV] learning_rate=0.06368375284328284, max_depth=5, n_estimators=145 \n",
      "[CV]  learning_rate=0.06368375284328284, max_depth=5, n_estimators=145, score=0.997, total=   0.1s\n",
      "[CV] learning_rate=0.04881875307846992, max_depth=11, n_estimators=201 \n",
      "[CV]  learning_rate=0.04881875307846992, max_depth=11, n_estimators=201, score=0.996, total=   0.1s\n",
      "[CV] learning_rate=0.04881875307846992, max_depth=11, n_estimators=201 \n",
      "[CV]  learning_rate=0.04881875307846992, max_depth=11, n_estimators=201, score=0.985, total=   0.2s\n",
      "[CV] learning_rate=0.04881875307846992, max_depth=11, n_estimators=201 \n",
      "[CV]  learning_rate=0.04881875307846992, max_depth=11, n_estimators=201, score=0.985, total=   0.1s\n",
      "[CV] learning_rate=0.04881875307846992, max_depth=11, n_estimators=201 \n",
      "[CV]  learning_rate=0.04881875307846992, max_depth=11, n_estimators=201, score=0.997, total=   0.2s\n",
      "[CV] learning_rate=0.0259567059708598, max_depth=10, n_estimators=209 \n",
      "[CV]  learning_rate=0.0259567059708598, max_depth=10, n_estimators=209, score=0.995, total=   0.5s\n",
      "[CV] learning_rate=0.0259567059708598, max_depth=10, n_estimators=209 \n",
      "[CV]  learning_rate=0.0259567059708598, max_depth=10, n_estimators=209, score=0.983, total=   0.3s\n",
      "[CV] learning_rate=0.0259567059708598, max_depth=10, n_estimators=209 \n",
      "[CV]  learning_rate=0.0259567059708598, max_depth=10, n_estimators=209, score=0.985, total=   0.5s\n",
      "[CV] learning_rate=0.0259567059708598, max_depth=10, n_estimators=209 \n",
      "[CV]  learning_rate=0.0259567059708598, max_depth=10, n_estimators=209, score=0.997, total=   0.2s\n",
      "[CV] learning_rate=0.09446375063625662, max_depth=6, n_estimators=271 \n",
      "[CV]  learning_rate=0.09446375063625662, max_depth=6, n_estimators=271, score=0.996, total=   0.1s\n",
      "[CV] learning_rate=0.09446375063625662, max_depth=6, n_estimators=271 \n",
      "[CV]  learning_rate=0.09446375063625662, max_depth=6, n_estimators=271, score=0.982, total=   0.2s\n",
      "[CV] learning_rate=0.09446375063625662, max_depth=6, n_estimators=271 \n",
      "[CV]  learning_rate=0.09446375063625662, max_depth=6, n_estimators=271, score=0.987, total=   0.1s\n",
      "[CV] learning_rate=0.09446375063625662, max_depth=6, n_estimators=271 \n",
      "[CV]  learning_rate=0.09446375063625662, max_depth=6, n_estimators=271, score=0.996, total=   0.1s\n",
      "[CV] learning_rate=0.0805560487030061, max_depth=12, n_estimators=103 \n",
      "[CV]  learning_rate=0.0805560487030061, max_depth=12, n_estimators=103, score=0.995, total=   0.1s\n",
      "[CV] learning_rate=0.0805560487030061, max_depth=12, n_estimators=103 \n",
      "[CV]  learning_rate=0.0805560487030061, max_depth=12, n_estimators=103, score=0.985, total=   0.1s\n",
      "[CV] learning_rate=0.0805560487030061, max_depth=12, n_estimators=103 \n",
      "[CV]  learning_rate=0.0805560487030061, max_depth=12, n_estimators=103, score=0.986, total=   0.1s\n",
      "[CV] learning_rate=0.0805560487030061, max_depth=12, n_estimators=103 \n",
      "[CV]  learning_rate=0.0805560487030061, max_depth=12, n_estimators=103, score=0.997, total=   0.1s\n",
      "[CV] learning_rate=0.08000174052710456, max_depth=8, n_estimators=196 \n",
      "[CV]  learning_rate=0.08000174052710456, max_depth=8, n_estimators=196, score=0.996, total=   0.1s\n",
      "[CV] learning_rate=0.08000174052710456, max_depth=8, n_estimators=196 \n",
      "[CV]  learning_rate=0.08000174052710456, max_depth=8, n_estimators=196, score=0.982, total=   0.1s\n",
      "[CV] learning_rate=0.08000174052710456, max_depth=8, n_estimators=196 \n",
      "[CV]  learning_rate=0.08000174052710456, max_depth=8, n_estimators=196, score=0.986, total=   0.2s\n",
      "[CV] learning_rate=0.08000174052710456, max_depth=8, n_estimators=196 \n",
      "[CV]  learning_rate=0.08000174052710456, max_depth=8, n_estimators=196, score=0.998, total=   0.1s\n",
      "[CV] learning_rate=0.03795242081872941, max_depth=9, n_estimators=128 \n",
      "[CV]  learning_rate=0.03795242081872941, max_depth=9, n_estimators=128, score=0.994, total=   0.2s\n",
      "[CV] learning_rate=0.03795242081872941, max_depth=9, n_estimators=128 \n",
      "[CV]  learning_rate=0.03795242081872941, max_depth=9, n_estimators=128, score=0.983, total=   0.1s\n",
      "[CV] learning_rate=0.03795242081872941, max_depth=9, n_estimators=128 \n",
      "[CV]  learning_rate=0.03795242081872941, max_depth=9, n_estimators=128, score=0.986, total=   0.1s\n",
      "[CV] learning_rate=0.03795242081872941, max_depth=9, n_estimators=128 \n",
      "[CV]  learning_rate=0.03795242081872941, max_depth=9, n_estimators=128, score=0.997, total=   0.1s\n",
      "[CV] learning_rate=0.08842400921050683, max_depth=3, n_estimators=397 \n",
      "[CV]  learning_rate=0.08842400921050683, max_depth=3, n_estimators=397, score=0.996, total=   0.3s\n",
      "[CV] learning_rate=0.08842400921050683, max_depth=3, n_estimators=397 \n",
      "[CV]  learning_rate=0.08842400921050683, max_depth=3, n_estimators=397, score=0.982, total=   0.2s\n",
      "[CV] learning_rate=0.08842400921050683, max_depth=3, n_estimators=397 \n",
      "[CV]  learning_rate=0.08842400921050683, max_depth=3, n_estimators=397, score=0.989, total=   0.5s\n",
      "[CV] learning_rate=0.08842400921050683, max_depth=3, n_estimators=397 \n",
      "[CV]  learning_rate=0.08842400921050683, max_depth=3, n_estimators=397, score=0.998, total=   0.7s\n",
      "[CV] learning_rate=0.0638676860050872, max_depth=8, n_estimators=126 .\n",
      "[CV]  learning_rate=0.0638676860050872, max_depth=8, n_estimators=126, score=0.995, total=   0.1s\n",
      "[CV] learning_rate=0.0638676860050872, max_depth=8, n_estimators=126 .\n",
      "[CV]  learning_rate=0.0638676860050872, max_depth=8, n_estimators=126, score=0.985, total=   0.1s\n",
      "[CV] learning_rate=0.0638676860050872, max_depth=8, n_estimators=126 .\n",
      "[CV]  learning_rate=0.0638676860050872, max_depth=8, n_estimators=126, score=0.986, total=   0.1s\n",
      "[CV] learning_rate=0.0638676860050872, max_depth=8, n_estimators=126 .\n",
      "[CV]  learning_rate=0.0638676860050872, max_depth=8, n_estimators=126, score=0.997, total=   0.3s\n",
      "[CV] learning_rate=0.025587527996708583, max_depth=5, n_estimators=473 \n",
      "[CV]  learning_rate=0.025587527996708583, max_depth=5, n_estimators=473, score=0.996, total=   0.3s\n",
      "[CV] learning_rate=0.025587527996708583, max_depth=5, n_estimators=473 \n",
      "[CV]  learning_rate=0.025587527996708583, max_depth=5, n_estimators=473, score=0.985, total=   0.5s\n",
      "[CV] learning_rate=0.025587527996708583, max_depth=5, n_estimators=473 \n",
      "[CV]  learning_rate=0.025587527996708583, max_depth=5, n_estimators=473, score=0.987, total=   0.4s\n",
      "[CV] learning_rate=0.025587527996708583, max_depth=5, n_estimators=473 \n",
      "[CV]  learning_rate=0.025587527996708583, max_depth=5, n_estimators=473, score=0.997, total=   0.3s\n",
      "[CV] learning_rate=0.031883234677038234, max_depth=3, n_estimators=291 \n",
      "[CV]  learning_rate=0.031883234677038234, max_depth=3, n_estimators=291, score=0.996, total=   0.4s\n",
      "[CV] learning_rate=0.031883234677038234, max_depth=3, n_estimators=291 \n",
      "[CV]  learning_rate=0.031883234677038234, max_depth=3, n_estimators=291, score=0.982, total=   0.2s\n",
      "[CV] learning_rate=0.031883234677038234, max_depth=3, n_estimators=291 \n",
      "[CV]  learning_rate=0.031883234677038234, max_depth=3, n_estimators=291, score=0.986, total=   0.4s\n",
      "[CV] learning_rate=0.031883234677038234, max_depth=3, n_estimators=291 \n",
      "[CV]  learning_rate=0.031883234677038234, max_depth=3, n_estimators=291, score=0.997, total=   0.2s\n",
      "[CV] learning_rate=0.01588172050049757, max_depth=8, n_estimators=205 \n",
      "[CV]  learning_rate=0.01588172050049757, max_depth=8, n_estimators=205, score=0.993, total=   0.2s\n",
      "[CV] learning_rate=0.01588172050049757, max_depth=8, n_estimators=205 \n",
      "[CV]  learning_rate=0.01588172050049757, max_depth=8, n_estimators=205, score=0.984, total=   0.2s\n",
      "[CV] learning_rate=0.01588172050049757, max_depth=8, n_estimators=205 \n",
      "[CV]  learning_rate=0.01588172050049757, max_depth=8, n_estimators=205, score=0.986, total=   0.2s\n",
      "[CV] learning_rate=0.01588172050049757, max_depth=8, n_estimators=205 \n",
      "[CV]  learning_rate=0.01588172050049757, max_depth=8, n_estimators=205, score=0.997, total=   0.3s\n",
      "[CV] learning_rate=0.09294086080077595, max_depth=10, n_estimators=142 \n",
      "[CV]  learning_rate=0.09294086080077595, max_depth=10, n_estimators=142, score=0.996, total=   0.1s\n",
      "[CV] learning_rate=0.09294086080077595, max_depth=10, n_estimators=142 \n",
      "[CV]  learning_rate=0.09294086080077595, max_depth=10, n_estimators=142, score=0.982, total=   0.1s\n",
      "[CV] learning_rate=0.09294086080077595, max_depth=10, n_estimators=142 \n",
      "[CV]  learning_rate=0.09294086080077595, max_depth=10, n_estimators=142, score=0.986, total=   0.4s\n",
      "[CV] learning_rate=0.09294086080077595, max_depth=10, n_estimators=142 \n",
      "[CV]  learning_rate=0.09294086080077595, max_depth=10, n_estimators=142, score=0.997, total=   0.2s\n",
      "[CV] learning_rate=0.06025524113648594, max_depth=8, n_estimators=365 \n"
     ]
    },
    {
     "name": "stdout",
     "output_type": "stream",
     "text": [
      "[CV]  learning_rate=0.06025524113648594, max_depth=8, n_estimators=365, score=0.995, total=   0.2s\n",
      "[CV] learning_rate=0.06025524113648594, max_depth=8, n_estimators=365 \n",
      "[CV]  learning_rate=0.06025524113648594, max_depth=8, n_estimators=365, score=0.982, total=   0.4s\n",
      "[CV] learning_rate=0.06025524113648594, max_depth=8, n_estimators=365 \n",
      "[CV]  learning_rate=0.06025524113648594, max_depth=8, n_estimators=365, score=0.986, total=   0.3s\n",
      "[CV] learning_rate=0.06025524113648594, max_depth=8, n_estimators=365 \n",
      "[CV]  learning_rate=0.06025524113648594, max_depth=8, n_estimators=365, score=0.997, total=   0.2s\n",
      "[CV] learning_rate=0.10755673484879061, max_depth=13, n_estimators=424 \n",
      "[CV]  learning_rate=0.10755673484879061, max_depth=13, n_estimators=424, score=0.996, total=   0.1s\n",
      "[CV] learning_rate=0.10755673484879061, max_depth=13, n_estimators=424 \n",
      "[CV]  learning_rate=0.10755673484879061, max_depth=13, n_estimators=424, score=0.980, total=   0.1s\n",
      "[CV] learning_rate=0.10755673484879061, max_depth=13, n_estimators=424 \n",
      "[CV]  learning_rate=0.10755673484879061, max_depth=13, n_estimators=424, score=0.989, total=   0.2s\n",
      "[CV] learning_rate=0.10755673484879061, max_depth=13, n_estimators=424 \n",
      "[CV]  learning_rate=0.10755673484879061, max_depth=13, n_estimators=424, score=0.996, total=   0.7s\n",
      "[CV] learning_rate=0.04034667607435532, max_depth=3, n_estimators=145 \n",
      "[CV]  learning_rate=0.04034667607435532, max_depth=3, n_estimators=145, score=0.995, total=   0.2s\n",
      "[CV] learning_rate=0.04034667607435532, max_depth=3, n_estimators=145 \n",
      "[CV]  learning_rate=0.04034667607435532, max_depth=3, n_estimators=145, score=0.982, total=   0.2s\n",
      "[CV] learning_rate=0.04034667607435532, max_depth=3, n_estimators=145 \n",
      "[CV]  learning_rate=0.04034667607435532, max_depth=3, n_estimators=145, score=0.986, total=   0.2s\n",
      "[CV] learning_rate=0.04034667607435532, max_depth=3, n_estimators=145 \n",
      "[CV]  learning_rate=0.04034667607435532, max_depth=3, n_estimators=145, score=0.996, total=   0.1s\n",
      "[CV] learning_rate=0.09423648886700609, max_depth=7, n_estimators=272 \n",
      "[CV]  learning_rate=0.09423648886700609, max_depth=7, n_estimators=272, score=0.996, total=   0.1s\n",
      "[CV] learning_rate=0.09423648886700609, max_depth=7, n_estimators=272 \n",
      "[CV]  learning_rate=0.09423648886700609, max_depth=7, n_estimators=272, score=0.981, total=   0.2s\n",
      "[CV] learning_rate=0.09423648886700609, max_depth=7, n_estimators=272 \n",
      "[CV]  learning_rate=0.09423648886700609, max_depth=7, n_estimators=272, score=0.987, total=   0.1s\n",
      "[CV] learning_rate=0.09423648886700609, max_depth=7, n_estimators=272 \n",
      "[CV]  learning_rate=0.09423648886700609, max_depth=7, n_estimators=272, score=0.996, total=   0.3s\n",
      "[CV] learning_rate=0.07377326306280863, max_depth=7, n_estimators=255 \n",
      "[CV]  learning_rate=0.07377326306280863, max_depth=7, n_estimators=255, score=0.996, total=   0.2s\n",
      "[CV] learning_rate=0.07377326306280863, max_depth=7, n_estimators=255 \n",
      "[CV]  learning_rate=0.07377326306280863, max_depth=7, n_estimators=255, score=0.981, total=   0.1s\n",
      "[CV] learning_rate=0.07377326306280863, max_depth=7, n_estimators=255 \n",
      "[CV]  learning_rate=0.07377326306280863, max_depth=7, n_estimators=255, score=0.987, total=   0.1s\n",
      "[CV] learning_rate=0.07377326306280863, max_depth=7, n_estimators=255 \n",
      "[CV]  learning_rate=0.07377326306280863, max_depth=7, n_estimators=255, score=0.997, total=   0.1s\n",
      "[CV] learning_rate=0.05368552109466664, max_depth=8, n_estimators=129 \n",
      "[CV]  learning_rate=0.05368552109466664, max_depth=8, n_estimators=129, score=0.995, total=   0.1s\n",
      "[CV] learning_rate=0.05368552109466664, max_depth=8, n_estimators=129 \n",
      "[CV]  learning_rate=0.05368552109466664, max_depth=8, n_estimators=129, score=0.983, total=   0.3s\n",
      "[CV] learning_rate=0.05368552109466664, max_depth=8, n_estimators=129 \n",
      "[CV]  learning_rate=0.05368552109466664, max_depth=8, n_estimators=129, score=0.985, total=   0.1s\n",
      "[CV] learning_rate=0.05368552109466664, max_depth=8, n_estimators=129 \n",
      "[CV]  learning_rate=0.05368552109466664, max_depth=8, n_estimators=129, score=0.997, total=   0.1s\n",
      "[CV] learning_rate=0.09773068736149733, max_depth=10, n_estimators=326 \n",
      "[CV]  learning_rate=0.09773068736149733, max_depth=10, n_estimators=326, score=0.995, total=   0.3s\n",
      "[CV] learning_rate=0.09773068736149733, max_depth=10, n_estimators=326 \n",
      "[CV]  learning_rate=0.09773068736149733, max_depth=10, n_estimators=326, score=0.982, total=   0.1s\n",
      "[CV] learning_rate=0.09773068736149733, max_depth=10, n_estimators=326 \n",
      "[CV]  learning_rate=0.09773068736149733, max_depth=10, n_estimators=326, score=0.987, total=   0.1s\n",
      "[CV] learning_rate=0.09773068736149733, max_depth=10, n_estimators=326 \n",
      "[CV]  learning_rate=0.09773068736149733, max_depth=10, n_estimators=326, score=0.996, total=   0.1s\n",
      "[CV] learning_rate=0.10368966936342786, max_depth=11, n_estimators=164 \n",
      "[CV]  learning_rate=0.10368966936342786, max_depth=11, n_estimators=164, score=0.995, total=   0.2s\n",
      "[CV] learning_rate=0.10368966936342786, max_depth=11, n_estimators=164 \n",
      "[CV]  learning_rate=0.10368966936342786, max_depth=11, n_estimators=164, score=0.981, total=   0.1s\n",
      "[CV] learning_rate=0.10368966936342786, max_depth=11, n_estimators=164 \n",
      "[CV]  learning_rate=0.10368966936342786, max_depth=11, n_estimators=164, score=0.986, total=   0.1s\n",
      "[CV] learning_rate=0.10368966936342786, max_depth=11, n_estimators=164 \n",
      "[CV]  learning_rate=0.10368966936342786, max_depth=11, n_estimators=164, score=0.997, total=   0.1s\n",
      "[CV] learning_rate=0.031779946119560025, max_depth=7, n_estimators=258 \n",
      "[CV]  learning_rate=0.031779946119560025, max_depth=7, n_estimators=258, score=0.995, total=   0.4s\n",
      "[CV] learning_rate=0.031779946119560025, max_depth=7, n_estimators=258 \n",
      "[CV]  learning_rate=0.031779946119560025, max_depth=7, n_estimators=258, score=0.986, total=   0.3s\n",
      "[CV] learning_rate=0.031779946119560025, max_depth=7, n_estimators=258 \n",
      "[CV]  learning_rate=0.031779946119560025, max_depth=7, n_estimators=258, score=0.985, total=   0.2s\n",
      "[CV] learning_rate=0.031779946119560025, max_depth=7, n_estimators=258 \n",
      "[CV]  learning_rate=0.031779946119560025, max_depth=7, n_estimators=258, score=0.997, total=   0.2s\n",
      "[CV] learning_rate=0.04651276808146453, max_depth=4, n_estimators=461 \n",
      "[CV]  learning_rate=0.04651276808146453, max_depth=4, n_estimators=461, score=0.997, total=   0.1s\n",
      "[CV] learning_rate=0.04651276808146453, max_depth=4, n_estimators=461 \n",
      "[CV]  learning_rate=0.04651276808146453, max_depth=4, n_estimators=461, score=0.983, total=   0.2s\n",
      "[CV] learning_rate=0.04651276808146453, max_depth=4, n_estimators=461 \n",
      "[CV]  learning_rate=0.04651276808146453, max_depth=4, n_estimators=461, score=0.987, total=   0.3s\n",
      "[CV] learning_rate=0.04651276808146453, max_depth=4, n_estimators=461 \n",
      "[CV]  learning_rate=0.04651276808146453, max_depth=4, n_estimators=461, score=0.997, total=   0.2s\n",
      "[CV] learning_rate=0.09820694076534313, max_depth=3, n_estimators=381 \n",
      "[CV]  learning_rate=0.09820694076534313, max_depth=3, n_estimators=381, score=0.996, total=   0.1s\n",
      "[CV] learning_rate=0.09820694076534313, max_depth=3, n_estimators=381 \n",
      "[CV]  learning_rate=0.09820694076534313, max_depth=3, n_estimators=381, score=0.981, total=   0.1s\n",
      "[CV] learning_rate=0.09820694076534313, max_depth=3, n_estimators=381 \n",
      "[CV]  learning_rate=0.09820694076534313, max_depth=3, n_estimators=381, score=0.989, total=   0.1s\n",
      "[CV] learning_rate=0.09820694076534313, max_depth=3, n_estimators=381 \n",
      "[CV]  learning_rate=0.09820694076534313, max_depth=3, n_estimators=381, score=0.997, total=   0.1s\n",
      "[CV] learning_rate=0.019702429595911647, max_depth=8, n_estimators=285 \n",
      "[CV]  learning_rate=0.019702429595911647, max_depth=8, n_estimators=285, score=0.994, total=   0.2s\n",
      "[CV] learning_rate=0.019702429595911647, max_depth=8, n_estimators=285 \n",
      "[CV]  learning_rate=0.019702429595911647, max_depth=8, n_estimators=285, score=0.982, total=   0.2s\n",
      "[CV] learning_rate=0.019702429595911647, max_depth=8, n_estimators=285 \n",
      "[CV]  learning_rate=0.019702429595911647, max_depth=8, n_estimators=285, score=0.986, total=   0.3s\n",
      "[CV] learning_rate=0.019702429595911647, max_depth=8, n_estimators=285 \n",
      "[CV]  learning_rate=0.019702429595911647, max_depth=8, n_estimators=285, score=0.997, total=   0.2s\n",
      "[CV] learning_rate=0.06702881635822715, max_depth=11, n_estimators=247 \n"
     ]
    },
    {
     "name": "stdout",
     "output_type": "stream",
     "text": [
      "[CV]  learning_rate=0.06702881635822715, max_depth=11, n_estimators=247, score=0.995, total=   0.3s\n",
      "[CV] learning_rate=0.06702881635822715, max_depth=11, n_estimators=247 \n",
      "[CV]  learning_rate=0.06702881635822715, max_depth=11, n_estimators=247, score=0.982, total=   0.1s\n",
      "[CV] learning_rate=0.06702881635822715, max_depth=11, n_estimators=247 \n",
      "[CV]  learning_rate=0.06702881635822715, max_depth=11, n_estimators=247, score=0.987, total=   0.4s\n",
      "[CV] learning_rate=0.06702881635822715, max_depth=11, n_estimators=247 \n",
      "[CV]  learning_rate=0.06702881635822715, max_depth=11, n_estimators=247, score=0.997, total=   0.1s\n",
      "[CV] learning_rate=0.06944729996419044, max_depth=10, n_estimators=146 \n",
      "[CV]  learning_rate=0.06944729996419044, max_depth=10, n_estimators=146, score=0.996, total=   0.1s\n",
      "[CV] learning_rate=0.06944729996419044, max_depth=10, n_estimators=146 \n",
      "[CV]  learning_rate=0.06944729996419044, max_depth=10, n_estimators=146, score=0.985, total=   0.1s\n",
      "[CV] learning_rate=0.06944729996419044, max_depth=10, n_estimators=146 \n",
      "[CV]  learning_rate=0.06944729996419044, max_depth=10, n_estimators=146, score=0.985, total=   0.2s\n",
      "[CV] learning_rate=0.06944729996419044, max_depth=10, n_estimators=146 \n",
      "[CV]  learning_rate=0.06944729996419044, max_depth=10, n_estimators=146, score=0.997, total=   0.1s\n",
      "[CV] learning_rate=0.0496622788813677, max_depth=11, n_estimators=229 \n",
      "[CV]  learning_rate=0.0496622788813677, max_depth=11, n_estimators=229, score=0.996, total=   0.2s\n",
      "[CV] learning_rate=0.0496622788813677, max_depth=11, n_estimators=229 \n",
      "[CV]  learning_rate=0.0496622788813677, max_depth=11, n_estimators=229, score=0.985, total=   0.1s\n",
      "[CV] learning_rate=0.0496622788813677, max_depth=11, n_estimators=229 \n",
      "[CV]  learning_rate=0.0496622788813677, max_depth=11, n_estimators=229, score=0.986, total=   0.2s\n",
      "[CV] learning_rate=0.0496622788813677, max_depth=11, n_estimators=229 \n",
      "[CV]  learning_rate=0.0496622788813677, max_depth=11, n_estimators=229, score=0.997, total=   0.4s\n",
      "[CV] learning_rate=0.0713247345784112, max_depth=5, n_estimators=471 .\n",
      "[CV]  learning_rate=0.0713247345784112, max_depth=5, n_estimators=471, score=0.996, total=   0.2s\n",
      "[CV] learning_rate=0.0713247345784112, max_depth=5, n_estimators=471 .\n",
      "[CV]  learning_rate=0.0713247345784112, max_depth=5, n_estimators=471, score=0.983, total=   0.2s\n",
      "[CV] learning_rate=0.0713247345784112, max_depth=5, n_estimators=471 .\n",
      "[CV]  learning_rate=0.0713247345784112, max_depth=5, n_estimators=471, score=0.989, total=   0.2s\n",
      "[CV] learning_rate=0.0713247345784112, max_depth=5, n_estimators=471 .\n",
      "[CV]  learning_rate=0.0713247345784112, max_depth=5, n_estimators=471, score=0.997, total=   0.3s\n",
      "[CV] learning_rate=0.027650082371291997, max_depth=7, n_estimators=381 \n",
      "[CV]  learning_rate=0.027650082371291997, max_depth=7, n_estimators=381, score=0.996, total=   0.5s\n",
      "[CV] learning_rate=0.027650082371291997, max_depth=7, n_estimators=381 \n",
      "[CV]  learning_rate=0.027650082371291997, max_depth=7, n_estimators=381, score=0.985, total=   0.2s\n",
      "[CV] learning_rate=0.027650082371291997, max_depth=7, n_estimators=381 \n",
      "[CV]  learning_rate=0.027650082371291997, max_depth=7, n_estimators=381, score=0.986, total=   0.2s\n",
      "[CV] learning_rate=0.027650082371291997, max_depth=7, n_estimators=381 \n",
      "[CV]  learning_rate=0.027650082371291997, max_depth=7, n_estimators=381, score=0.997, total=   0.3s\n",
      "[CV] learning_rate=0.09403917603655527, max_depth=4, n_estimators=233 \n",
      "[CV]  learning_rate=0.09403917603655527, max_depth=4, n_estimators=233, score=0.996, total=   0.2s\n",
      "[CV] learning_rate=0.09403917603655527, max_depth=4, n_estimators=233 \n",
      "[CV]  learning_rate=0.09403917603655527, max_depth=4, n_estimators=233, score=0.981, total=   0.2s\n",
      "[CV] learning_rate=0.09403917603655527, max_depth=4, n_estimators=233 \n",
      "[CV]  learning_rate=0.09403917603655527, max_depth=4, n_estimators=233, score=0.987, total=   0.1s\n",
      "[CV] learning_rate=0.09403917603655527, max_depth=4, n_estimators=233 \n",
      "[CV]  learning_rate=0.09403917603655527, max_depth=4, n_estimators=233, score=0.997, total=   0.1s\n",
      "[CV] learning_rate=0.04832703472762007, max_depth=6, n_estimators=442 \n",
      "[CV]  learning_rate=0.04832703472762007, max_depth=6, n_estimators=442, score=0.996, total=   0.2s\n",
      "[CV] learning_rate=0.04832703472762007, max_depth=6, n_estimators=442 \n",
      "[CV]  learning_rate=0.04832703472762007, max_depth=6, n_estimators=442, score=0.982, total=   0.2s\n",
      "[CV] learning_rate=0.04832703472762007, max_depth=6, n_estimators=442 \n",
      "[CV]  learning_rate=0.04832703472762007, max_depth=6, n_estimators=442, score=0.988, total=   0.2s\n",
      "[CV] learning_rate=0.04832703472762007, max_depth=6, n_estimators=442 \n",
      "[CV]  learning_rate=0.04832703472762007, max_depth=6, n_estimators=442, score=0.997, total=   0.2s\n",
      "[CV] learning_rate=0.07687134406683728, max_depth=6, n_estimators=129 \n",
      "[CV]  learning_rate=0.07687134406683728, max_depth=6, n_estimators=129, score=0.996, total=   0.1s\n",
      "[CV] learning_rate=0.07687134406683728, max_depth=6, n_estimators=129 \n",
      "[CV]  learning_rate=0.07687134406683728, max_depth=6, n_estimators=129, score=0.983, total=   0.1s\n",
      "[CV] learning_rate=0.07687134406683728, max_depth=6, n_estimators=129 \n",
      "[CV]  learning_rate=0.07687134406683728, max_depth=6, n_estimators=129, score=0.985, total=   0.1s\n",
      "[CV] learning_rate=0.07687134406683728, max_depth=6, n_estimators=129 \n",
      "[CV]  learning_rate=0.07687134406683728, max_depth=6, n_estimators=129, score=0.997, total=   0.1s\n",
      "[CV] learning_rate=0.06929064831716797, max_depth=13, n_estimators=125 \n",
      "[CV]  learning_rate=0.06929064831716797, max_depth=13, n_estimators=125, score=0.996, total=   0.2s\n",
      "[CV] learning_rate=0.06929064831716797, max_depth=13, n_estimators=125 \n",
      "[CV]  learning_rate=0.06929064831716797, max_depth=13, n_estimators=125, score=0.984, total=   0.1s\n",
      "[CV] learning_rate=0.06929064831716797, max_depth=13, n_estimators=125 \n",
      "[CV]  learning_rate=0.06929064831716797, max_depth=13, n_estimators=125, score=0.986, total=   0.1s\n",
      "[CV] learning_rate=0.06929064831716797, max_depth=13, n_estimators=125 \n",
      "[CV]  learning_rate=0.06929064831716797, max_depth=13, n_estimators=125, score=0.997, total=   0.5s\n",
      "[CV] learning_rate=0.03926618341503784, max_depth=6, n_estimators=130 \n",
      "[CV]  learning_rate=0.03926618341503784, max_depth=6, n_estimators=130, score=0.995, total=   0.2s\n",
      "[CV] learning_rate=0.03926618341503784, max_depth=6, n_estimators=130 \n",
      "[CV]  learning_rate=0.03926618341503784, max_depth=6, n_estimators=130, score=0.983, total=   0.2s\n",
      "[CV] learning_rate=0.03926618341503784, max_depth=6, n_estimators=130 \n",
      "[CV]  learning_rate=0.03926618341503784, max_depth=6, n_estimators=130, score=0.986, total=   0.1s\n",
      "[CV] learning_rate=0.03926618341503784, max_depth=6, n_estimators=130 \n",
      "[CV]  learning_rate=0.03926618341503784, max_depth=6, n_estimators=130, score=0.997, total=   0.1s\n",
      "[CV] learning_rate=0.09791783357583544, max_depth=7, n_estimators=203 \n",
      "[CV]  learning_rate=0.09791783357583544, max_depth=7, n_estimators=203, score=0.995, total=   0.2s\n",
      "[CV] learning_rate=0.09791783357583544, max_depth=7, n_estimators=203 \n",
      "[CV]  learning_rate=0.09791783357583544, max_depth=7, n_estimators=203, score=0.982, total=   0.1s\n",
      "[CV] learning_rate=0.09791783357583544, max_depth=7, n_estimators=203 \n",
      "[CV]  learning_rate=0.09791783357583544, max_depth=7, n_estimators=203, score=0.987, total=   0.2s\n",
      "[CV] learning_rate=0.09791783357583544, max_depth=7, n_estimators=203 \n",
      "[CV]  learning_rate=0.09791783357583544, max_depth=7, n_estimators=203, score=0.997, total=   0.2s\n",
      "[CV] learning_rate=0.08502419371910049, max_depth=7, n_estimators=374 \n",
      "[CV]  learning_rate=0.08502419371910049, max_depth=7, n_estimators=374, score=0.995, total=   0.3s\n",
      "[CV] learning_rate=0.08502419371910049, max_depth=7, n_estimators=374 \n",
      "[CV]  learning_rate=0.08502419371910049, max_depth=7, n_estimators=374, score=0.983, total=   0.4s\n",
      "[CV] learning_rate=0.08502419371910049, max_depth=7, n_estimators=374 \n",
      "[CV]  learning_rate=0.08502419371910049, max_depth=7, n_estimators=374, score=0.988, total=   0.3s\n",
      "[CV] learning_rate=0.08502419371910049, max_depth=7, n_estimators=374 \n",
      "[CV]  learning_rate=0.08502419371910049, max_depth=7, n_estimators=374, score=0.997, total=   0.5s\n",
      "[CV] learning_rate=0.08412975899552615, max_depth=7, n_estimators=469 \n",
      "[CV]  learning_rate=0.08412975899552615, max_depth=7, n_estimators=469, score=0.996, total=   0.5s\n",
      "[CV] learning_rate=0.08412975899552615, max_depth=7, n_estimators=469 \n"
     ]
    },
    {
     "name": "stdout",
     "output_type": "stream",
     "text": [
      "[CV]  learning_rate=0.08412975899552615, max_depth=7, n_estimators=469, score=0.981, total=   0.5s\n",
      "[CV] learning_rate=0.08412975899552615, max_depth=7, n_estimators=469 \n",
      "[CV]  learning_rate=0.08412975899552615, max_depth=7, n_estimators=469, score=0.988, total=   0.4s\n",
      "[CV] learning_rate=0.08412975899552615, max_depth=7, n_estimators=469 \n",
      "[CV]  learning_rate=0.08412975899552615, max_depth=7, n_estimators=469, score=0.996, total=   0.1s\n",
      "[CV] learning_rate=0.10780881217040524, max_depth=8, n_estimators=174 \n",
      "[CV]  learning_rate=0.10780881217040524, max_depth=8, n_estimators=174, score=0.996, total=   0.1s\n",
      "[CV] learning_rate=0.10780881217040524, max_depth=8, n_estimators=174 \n",
      "[CV]  learning_rate=0.10780881217040524, max_depth=8, n_estimators=174, score=0.982, total=   0.1s\n",
      "[CV] learning_rate=0.10780881217040524, max_depth=8, n_estimators=174 \n",
      "[CV]  learning_rate=0.10780881217040524, max_depth=8, n_estimators=174, score=0.987, total=   0.1s\n",
      "[CV] learning_rate=0.10780881217040524, max_depth=8, n_estimators=174 \n",
      "[CV]  learning_rate=0.10780881217040524, max_depth=8, n_estimators=174, score=0.997, total=   0.2s\n",
      "[CV] learning_rate=0.09522313245137505, max_depth=13, n_estimators=473 \n",
      "[CV]  learning_rate=0.09522313245137505, max_depth=13, n_estimators=473, score=0.996, total=   0.4s\n",
      "[CV] learning_rate=0.09522313245137505, max_depth=13, n_estimators=473 \n",
      "[CV]  learning_rate=0.09522313245137505, max_depth=13, n_estimators=473, score=0.982, total=   0.2s\n",
      "[CV] learning_rate=0.09522313245137505, max_depth=13, n_estimators=473 \n",
      "[CV]  learning_rate=0.09522313245137505, max_depth=13, n_estimators=473, score=0.989, total=   0.4s\n",
      "[CV] learning_rate=0.09522313245137505, max_depth=13, n_estimators=473 \n",
      "[CV]  learning_rate=0.09522313245137505, max_depth=13, n_estimators=473, score=0.996, total=   0.4s\n"
     ]
    },
    {
     "name": "stderr",
     "output_type": "stream",
     "text": [
      "[Parallel(n_jobs=1)]: Done 160 out of 160 | elapsed:   33.4s finished\n"
     ]
    },
    {
     "name": "stdout",
     "output_type": "stream",
     "text": [
      "Best parameters: {'learning_rate': 0.08842400921050683, 'max_depth': 3, 'n_estimators': 397}\n",
      "Score: 0.9913063653237253\n"
     ]
    }
   ],
   "source": [
    "xgb_classifier = xgb.XGBClassifier(objective='binary:logistic', \n",
    "                                   booster='gbtree',\n",
    "                                   use_label_encoder=False)\n",
    "params = {'n_estimators': stats.randint(100, 500),\n",
    "              'learning_rate': stats.uniform(0.01, 0.1),\n",
    "              'max_depth': [3, 4, 5, 6, 7, 8, 9, 10, 11, 12, 13]}\n",
    "n_folds = 4\n",
    "cv_classifier = RandomizedSearchCV(xgb_classifier, \n",
    "                             param_distributions=params, \n",
    "                             cv=n_folds,\n",
    "                             n_iter = 40, #should be larger or equal to using grid search\n",
    "                             scoring = 'roc_auc',\n",
    "                             verbose=3) #use 1 to turn off verbose\n",
    "cv_classifier.fit(X_train, y_train, eval_metric='logloss')\n",
    "classifier=cv_classifier.best_estimator_\n",
    "print('Best parameters:', cv_classifier.best_params_)\n",
    "print('Score:', cv_classifier.best_score_)"
   ]
  },
  {
   "cell_type": "markdown",
   "metadata": {},
   "source": [
    "The about 400 estimators and 0.08 learning rate seems to work well for this data."
   ]
  },
  {
   "cell_type": "code",
   "execution_count": 26,
   "metadata": {},
   "outputs": [
    {
     "name": "stdout",
     "output_type": "stream",
     "text": [
      "Classifier: ROC AUC=0.957\n"
     ]
    }
   ],
   "source": [
    "y_pred = classifier.predict(X_test)\n",
    "cl_auc = roc_auc_score(y_test, y_pred)\n",
    "print('Classifier: ROC AUC=%.3f' % (cl_auc))"
   ]
  },
  {
   "cell_type": "markdown",
   "metadata": {},
   "source": [
    "## Plotting"
   ]
  },
  {
   "cell_type": "code",
   "execution_count": 27,
   "metadata": {},
   "outputs": [],
   "source": [
    "# Plotting\n",
    "import matplotlib.pyplot as plt\n",
    "%matplotlib inline"
   ]
  },
  {
   "cell_type": "code",
   "execution_count": 28,
   "metadata": {},
   "outputs": [
    {
     "data": {
      "image/png": "[encoded data removed]",
      "text/plain": [
       "<Figure size 1440x720 with 1 Axes>"
      ]
     },
     "metadata": {
      "needs_background": "light"
     },
     "output_type": "display_data"
    }
   ],
   "source": [
    "xgb.plot_tree(classifier, num_trees=0, fontsize=10)\n",
    "fig = plt.gcf()\n",
    "fig.set_size_inches(20, 10)\n",
    "plt.show()"
   ]
  },
  {
   "cell_type": "code",
   "execution_count": 29,
   "metadata": {},
   "outputs": [
    {
     "data": {
      "image/png": "[encoded data removed]",
      "text/plain": [
       "<Figure size 1440x720 with 1 Axes>"
      ]
     },
     "metadata": {
      "needs_background": "light"
     },
     "output_type": "display_data"
    }
   ],
   "source": [
    "xgb.plot_importance(classifier)\n",
    "fig = plt.gcf()\n",
    "fig.set_size_inches(20, 10)\n",
    "plt.show()"
   ]
  },
  {
   "cell_type": "code",
   "execution_count": 30,
   "metadata": {},
   "outputs": [],
   "source": [
    "from sklearn.metrics import roc_curve"
   ]
  },
  {
   "cell_type": "code",
   "execution_count": 31,
   "metadata": {},
   "outputs": [
    {
     "name": "stdout",
     "output_type": "stream",
     "text": [
      "No Skill: ROC AUC=0.500\n",
      "Classifier: ROC AUC=0.957\n"
     ]
    }
   ],
   "source": [
    "# No skill classifier for comparisson\n",
    "ns_pred = [0 for _ in range(len(y_test))]\n",
    "ns_auc = roc_auc_score(y_test, ns_pred)\n",
    "# Actual classifier\n",
    "y_pred = classifier.predict(X_test)\n",
    "cl_auc = roc_auc_score(y_test, y_pred)\n",
    "print('No Skill: ROC AUC=%.3f' % (ns_auc))\n",
    "print('Classifier: ROC AUC=%.3f' % (cl_auc))"
   ]
  },
  {
   "cell_type": "markdown",
   "metadata": {},
   "source": [
    "Plot the roc curve for the model"
   ]
  },
  {
   "cell_type": "code",
   "execution_count": 32,
   "metadata": {},
   "outputs": [
    {
     "data": {
      "image/png": "[encoded data removed]",
      "text/plain": [
       "<Figure size 504x360 with 1 Axes>"
      ]
     },
     "metadata": {
      "needs_background": "light"
     },
     "output_type": "display_data"
    }
   ],
   "source": [
    "ns_fpr, ns_tpr, _ = roc_curve(y_test, ns_pred)\n",
    "cl_fpr, cl_tpr, _ = roc_curve(y_test, y_pred)\n",
    "plt.rcParams['figure.figsize'] = [7, 5]\n",
    "plt.plot(ns_fpr, ns_tpr, linestyle='--', label='No Skill')\n",
    "plt.plot(cl_fpr, cl_tpr, marker='.', label='Logistic')\n",
    "plt.title('ROC Curve')\n",
    "plt.xlabel('False Positive Rate')\n",
    "plt.ylabel('True Positive Rate')\n",
    "plt.legend()\n",
    "plt.show()"
   ]
  }
 ],
 "metadata": {
  "kernelspec": {
   "display_name": "Python 3.8.2 64-bit",
   "language": "python",
   "name": "python38264bit647bf622a7574030a347e80da51d7d84"
  },
  "language_info": {
   "codemirror_mode": {
    "name": "ipython",
    "version": 3
   },
   "file_extension": ".py",
   "mimetype": "text/x-python",
   "name": "python",
   "nbconvert_exporter": "python",
   "pygments_lexer": "ipython3",
   "version": "3.8.10"
  }
 },
 "nbformat": 4,
 "nbformat_minor": 4
}
